{
  "nbformat": 4,
  "nbformat_minor": 0,
  "metadata": {
    "colab": {
      "name": "Analyze Employee Exit Surveys.ipynb",
      "provenance": [],
      "collapsed_sections": [],
      "toc_visible": true,
      "include_colab_link": true
    },
    "kernelspec": {
      "name": "python3",
      "display_name": "Python 3"
    }
  },
  "cells": [
    {
      "cell_type": "markdown",
      "metadata": {
        "id": "view-in-github",
        "colab_type": "text"
      },
      "source": [
        "<a href=\"https://colab.research.google.com/github/ipshitaRB/Analyze-Employee-Exit-Surveys/blob/master/Analyze_Employee_Exit_Surveys.ipynb\" target=\"_parent\"><img src=\"https://colab.research.google.com/assets/colab-badge.svg\" alt=\"Open In Colab\"/></a>"
      ]
    },
    {
      "cell_type": "markdown",
      "metadata": {
        "id": "pqZyvHe0GUzf",
        "colab_type": "text"
      },
      "source": [
        "# Clean and Analyze Employee Exit Surveys \n",
        "\n",
        "In this project, we will work with exit surveys from employees of the  [Department of Education, Training and Employment (DETE)](https://en.wikipedia.org/wiki/Department_of_Education_and_Training_(Queensland)) and the Technical and Further Education (TAFE) institute in Queensland, Australia. You can find the TAFE exit survey [here](https://data.gov.au/dataset/ds-qld-89970a3b-182b-41ea-aea2-6f9f17https://data.gov.au/dataset/ds-qld-fe96ff30-d157-4a81-851d-215f2a0fe26d/details?q=exit%20survey).\n",
        "\n",
        "Below is a preview of a couple columns we'll work with from the dete_survey.csv:\n",
        "\n",
        "* ID: An id used to identify the participant of the survey\n",
        "* SeparationType: The reason why the person's employment ended\n",
        "* Cease Date: The year or month the person's employment ended\n",
        "* DETE Start Date: The year the person began employment with the DETE\n",
        "\n",
        "Below is a preview of a couple columns we'll work with from the tafe_survey.csv:\n",
        "\n",
        "* Record ID: An id used to identify the participant of the survey\n",
        "* Reason for ceasing employment: The reason why the person's employment ended\n",
        "* LengthofServiceOverall. Overall Length of Service at Institute (in years): The length of the person's employment (in years)"
      ]
    },
    {
      "cell_type": "code",
      "metadata": {
        "id": "VYOgvwSEPn45",
        "colab_type": "code",
        "colab": {}
      },
      "source": [
        "from google.colab import drive\n",
        "drive.mount('/content/drive')"
      ],
      "execution_count": 0,
      "outputs": []
    },
    {
      "cell_type": "code",
      "metadata": {
        "id": "ergETaN_GHDZ",
        "colab_type": "code",
        "colab": {}
      },
      "source": [
        "import pandas as pd\n",
        "import numpy as np\n"
      ],
      "execution_count": 0,
      "outputs": []
    },
    {
      "cell_type": "markdown",
      "metadata": {
        "id": "q2MC7pP5QOrf",
        "colab_type": "text"
      },
      "source": [
        "## Load data into dataframes"
      ]
    },
    {
      "cell_type": "code",
      "metadata": {
        "id": "t6SQ3RZ1QMkF",
        "colab_type": "code",
        "colab": {}
      },
      "source": [
        "dete_survey = pd.read_csv('/content/drive/My Drive/Data Science /Data/Employee Exit Surveys/dete_survey.csv')\n",
        "tafe_survey = pd.read_csv('/content/drive/My Drive/Data Science /Data/Employee Exit Surveys/tafe_survey.csv')"
      ],
      "execution_count": 0,
      "outputs": []
    },
    {
      "cell_type": "markdown",
      "metadata": {
        "id": "hSuow68mQ10a",
        "colab_type": "text"
      },
      "source": [
        "## Explore dete_survey and tafe_survey"
      ]
    },
    {
      "cell_type": "markdown",
      "metadata": {
        "id": "QWwfxg0TVcmC",
        "colab_type": "text"
      },
      "source": [
        "### Explore dete_survey"
      ]
    },
    {
      "cell_type": "code",
      "metadata": {
        "id": "YVGqJvSERSEq",
        "colab_type": "code",
        "outputId": "8fbd7937-2c90-46ff-8ea4-258a399cf000",
        "colab": {
          "base_uri": "https://localhost:8080/",
          "height": 479
        }
      },
      "source": [
        "dete_survey.head()"
      ],
      "execution_count": 4,
      "outputs": [
        {
          "output_type": "execute_result",
          "data": {
            "text/html": [
              "<div>\n",
              "<style scoped>\n",
              "    .dataframe tbody tr th:only-of-type {\n",
              "        vertical-align: middle;\n",
              "    }\n",
              "\n",
              "    .dataframe tbody tr th {\n",
              "        vertical-align: top;\n",
              "    }\n",
              "\n",
              "    .dataframe thead th {\n",
              "        text-align: right;\n",
              "    }\n",
              "</style>\n",
              "<table border=\"1\" class=\"dataframe\">\n",
              "  <thead>\n",
              "    <tr style=\"text-align: right;\">\n",
              "      <th></th>\n",
              "      <th>ID</th>\n",
              "      <th>SeparationType</th>\n",
              "      <th>Cease Date</th>\n",
              "      <th>DETE Start Date</th>\n",
              "      <th>Role Start Date</th>\n",
              "      <th>Position</th>\n",
              "      <th>Classification</th>\n",
              "      <th>Region</th>\n",
              "      <th>Business Unit</th>\n",
              "      <th>Employment Status</th>\n",
              "      <th>Career move to public sector</th>\n",
              "      <th>Career move to private sector</th>\n",
              "      <th>Interpersonal conflicts</th>\n",
              "      <th>Job dissatisfaction</th>\n",
              "      <th>Dissatisfaction with the department</th>\n",
              "      <th>Physical work environment</th>\n",
              "      <th>Lack of recognition</th>\n",
              "      <th>Lack of job security</th>\n",
              "      <th>Work location</th>\n",
              "      <th>Employment conditions</th>\n",
              "      <th>Maternity/family</th>\n",
              "      <th>Relocation</th>\n",
              "      <th>Study/Travel</th>\n",
              "      <th>Ill Health</th>\n",
              "      <th>Traumatic incident</th>\n",
              "      <th>Work life balance</th>\n",
              "      <th>Workload</th>\n",
              "      <th>None of the above</th>\n",
              "      <th>Professional Development</th>\n",
              "      <th>Opportunities for promotion</th>\n",
              "      <th>Staff morale</th>\n",
              "      <th>Workplace issue</th>\n",
              "      <th>Physical environment</th>\n",
              "      <th>Worklife balance</th>\n",
              "      <th>Stress and pressure support</th>\n",
              "      <th>Performance of supervisor</th>\n",
              "      <th>Peer support</th>\n",
              "      <th>Initiative</th>\n",
              "      <th>Skills</th>\n",
              "      <th>Coach</th>\n",
              "      <th>Career Aspirations</th>\n",
              "      <th>Feedback</th>\n",
              "      <th>Further PD</th>\n",
              "      <th>Communication</th>\n",
              "      <th>My say</th>\n",
              "      <th>Information</th>\n",
              "      <th>Kept informed</th>\n",
              "      <th>Wellness programs</th>\n",
              "      <th>Health &amp; Safety</th>\n",
              "      <th>Gender</th>\n",
              "      <th>Age</th>\n",
              "      <th>Aboriginal</th>\n",
              "      <th>Torres Strait</th>\n",
              "      <th>South Sea</th>\n",
              "      <th>Disability</th>\n",
              "      <th>NESB</th>\n",
              "    </tr>\n",
              "  </thead>\n",
              "  <tbody>\n",
              "    <tr>\n",
              "      <th>0</th>\n",
              "      <td>1</td>\n",
              "      <td>Ill Health Retirement</td>\n",
              "      <td>08/2012</td>\n",
              "      <td>1984</td>\n",
              "      <td>2004</td>\n",
              "      <td>Public Servant</td>\n",
              "      <td>A01-A04</td>\n",
              "      <td>Central Office</td>\n",
              "      <td>Corporate Strategy and Peformance</td>\n",
              "      <td>Permanent Full-time</td>\n",
              "      <td>True</td>\n",
              "      <td>False</td>\n",
              "      <td>False</td>\n",
              "      <td>True</td>\n",
              "      <td>False</td>\n",
              "      <td>False</td>\n",
              "      <td>True</td>\n",
              "      <td>False</td>\n",
              "      <td>False</td>\n",
              "      <td>False</td>\n",
              "      <td>False</td>\n",
              "      <td>False</td>\n",
              "      <td>False</td>\n",
              "      <td>False</td>\n",
              "      <td>False</td>\n",
              "      <td>False</td>\n",
              "      <td>False</td>\n",
              "      <td>True</td>\n",
              "      <td>A</td>\n",
              "      <td>A</td>\n",
              "      <td>N</td>\n",
              "      <td>N</td>\n",
              "      <td>N</td>\n",
              "      <td>A</td>\n",
              "      <td>A</td>\n",
              "      <td>A</td>\n",
              "      <td>A</td>\n",
              "      <td>N</td>\n",
              "      <td>N</td>\n",
              "      <td>N</td>\n",
              "      <td>A</td>\n",
              "      <td>A</td>\n",
              "      <td>A</td>\n",
              "      <td>N</td>\n",
              "      <td>A</td>\n",
              "      <td>A</td>\n",
              "      <td>N</td>\n",
              "      <td>N</td>\n",
              "      <td>N</td>\n",
              "      <td>Male</td>\n",
              "      <td>56-60</td>\n",
              "      <td>NaN</td>\n",
              "      <td>NaN</td>\n",
              "      <td>NaN</td>\n",
              "      <td>NaN</td>\n",
              "      <td>Yes</td>\n",
              "    </tr>\n",
              "    <tr>\n",
              "      <th>1</th>\n",
              "      <td>2</td>\n",
              "      <td>Voluntary Early Retirement (VER)</td>\n",
              "      <td>08/2012</td>\n",
              "      <td>Not Stated</td>\n",
              "      <td>Not Stated</td>\n",
              "      <td>Public Servant</td>\n",
              "      <td>AO5-AO7</td>\n",
              "      <td>Central Office</td>\n",
              "      <td>Corporate Strategy and Peformance</td>\n",
              "      <td>Permanent Full-time</td>\n",
              "      <td>False</td>\n",
              "      <td>False</td>\n",
              "      <td>False</td>\n",
              "      <td>False</td>\n",
              "      <td>False</td>\n",
              "      <td>False</td>\n",
              "      <td>False</td>\n",
              "      <td>False</td>\n",
              "      <td>False</td>\n",
              "      <td>False</td>\n",
              "      <td>False</td>\n",
              "      <td>False</td>\n",
              "      <td>False</td>\n",
              "      <td>False</td>\n",
              "      <td>False</td>\n",
              "      <td>False</td>\n",
              "      <td>False</td>\n",
              "      <td>False</td>\n",
              "      <td>A</td>\n",
              "      <td>A</td>\n",
              "      <td>N</td>\n",
              "      <td>N</td>\n",
              "      <td>N</td>\n",
              "      <td>N</td>\n",
              "      <td>A</td>\n",
              "      <td>A</td>\n",
              "      <td>A</td>\n",
              "      <td>N</td>\n",
              "      <td>N</td>\n",
              "      <td>N</td>\n",
              "      <td>A</td>\n",
              "      <td>A</td>\n",
              "      <td>A</td>\n",
              "      <td>N</td>\n",
              "      <td>A</td>\n",
              "      <td>A</td>\n",
              "      <td>N</td>\n",
              "      <td>N</td>\n",
              "      <td>N</td>\n",
              "      <td>Male</td>\n",
              "      <td>56-60</td>\n",
              "      <td>NaN</td>\n",
              "      <td>NaN</td>\n",
              "      <td>NaN</td>\n",
              "      <td>NaN</td>\n",
              "      <td>NaN</td>\n",
              "    </tr>\n",
              "    <tr>\n",
              "      <th>2</th>\n",
              "      <td>3</td>\n",
              "      <td>Voluntary Early Retirement (VER)</td>\n",
              "      <td>05/2012</td>\n",
              "      <td>2011</td>\n",
              "      <td>2011</td>\n",
              "      <td>Schools Officer</td>\n",
              "      <td>NaN</td>\n",
              "      <td>Central Office</td>\n",
              "      <td>Education Queensland</td>\n",
              "      <td>Permanent Full-time</td>\n",
              "      <td>False</td>\n",
              "      <td>False</td>\n",
              "      <td>False</td>\n",
              "      <td>False</td>\n",
              "      <td>False</td>\n",
              "      <td>False</td>\n",
              "      <td>False</td>\n",
              "      <td>False</td>\n",
              "      <td>False</td>\n",
              "      <td>False</td>\n",
              "      <td>False</td>\n",
              "      <td>False</td>\n",
              "      <td>False</td>\n",
              "      <td>False</td>\n",
              "      <td>False</td>\n",
              "      <td>False</td>\n",
              "      <td>False</td>\n",
              "      <td>True</td>\n",
              "      <td>N</td>\n",
              "      <td>N</td>\n",
              "      <td>N</td>\n",
              "      <td>N</td>\n",
              "      <td>N</td>\n",
              "      <td>N</td>\n",
              "      <td>N</td>\n",
              "      <td>N</td>\n",
              "      <td>N</td>\n",
              "      <td>N</td>\n",
              "      <td>N</td>\n",
              "      <td>N</td>\n",
              "      <td>N</td>\n",
              "      <td>N</td>\n",
              "      <td>N</td>\n",
              "      <td>A</td>\n",
              "      <td>A</td>\n",
              "      <td>N</td>\n",
              "      <td>N</td>\n",
              "      <td>N</td>\n",
              "      <td>N</td>\n",
              "      <td>Male</td>\n",
              "      <td>61 or older</td>\n",
              "      <td>NaN</td>\n",
              "      <td>NaN</td>\n",
              "      <td>NaN</td>\n",
              "      <td>NaN</td>\n",
              "      <td>NaN</td>\n",
              "    </tr>\n",
              "    <tr>\n",
              "      <th>3</th>\n",
              "      <td>4</td>\n",
              "      <td>Resignation-Other reasons</td>\n",
              "      <td>05/2012</td>\n",
              "      <td>2005</td>\n",
              "      <td>2006</td>\n",
              "      <td>Teacher</td>\n",
              "      <td>Primary</td>\n",
              "      <td>Central Queensland</td>\n",
              "      <td>NaN</td>\n",
              "      <td>Permanent Full-time</td>\n",
              "      <td>False</td>\n",
              "      <td>True</td>\n",
              "      <td>False</td>\n",
              "      <td>False</td>\n",
              "      <td>False</td>\n",
              "      <td>False</td>\n",
              "      <td>False</td>\n",
              "      <td>False</td>\n",
              "      <td>False</td>\n",
              "      <td>False</td>\n",
              "      <td>False</td>\n",
              "      <td>False</td>\n",
              "      <td>False</td>\n",
              "      <td>False</td>\n",
              "      <td>False</td>\n",
              "      <td>False</td>\n",
              "      <td>False</td>\n",
              "      <td>False</td>\n",
              "      <td>A</td>\n",
              "      <td>N</td>\n",
              "      <td>N</td>\n",
              "      <td>N</td>\n",
              "      <td>A</td>\n",
              "      <td>A</td>\n",
              "      <td>N</td>\n",
              "      <td>N</td>\n",
              "      <td>A</td>\n",
              "      <td>A</td>\n",
              "      <td>A</td>\n",
              "      <td>A</td>\n",
              "      <td>A</td>\n",
              "      <td>A</td>\n",
              "      <td>A</td>\n",
              "      <td>A</td>\n",
              "      <td>A</td>\n",
              "      <td>A</td>\n",
              "      <td>A</td>\n",
              "      <td>N</td>\n",
              "      <td>A</td>\n",
              "      <td>Female</td>\n",
              "      <td>36-40</td>\n",
              "      <td>NaN</td>\n",
              "      <td>NaN</td>\n",
              "      <td>NaN</td>\n",
              "      <td>NaN</td>\n",
              "      <td>NaN</td>\n",
              "    </tr>\n",
              "    <tr>\n",
              "      <th>4</th>\n",
              "      <td>5</td>\n",
              "      <td>Age Retirement</td>\n",
              "      <td>05/2012</td>\n",
              "      <td>1970</td>\n",
              "      <td>1989</td>\n",
              "      <td>Head of Curriculum/Head of Special Education</td>\n",
              "      <td>NaN</td>\n",
              "      <td>South East</td>\n",
              "      <td>NaN</td>\n",
              "      <td>Permanent Full-time</td>\n",
              "      <td>False</td>\n",
              "      <td>False</td>\n",
              "      <td>False</td>\n",
              "      <td>False</td>\n",
              "      <td>False</td>\n",
              "      <td>False</td>\n",
              "      <td>False</td>\n",
              "      <td>False</td>\n",
              "      <td>False</td>\n",
              "      <td>False</td>\n",
              "      <td>False</td>\n",
              "      <td>False</td>\n",
              "      <td>False</td>\n",
              "      <td>False</td>\n",
              "      <td>False</td>\n",
              "      <td>True</td>\n",
              "      <td>False</td>\n",
              "      <td>False</td>\n",
              "      <td>A</td>\n",
              "      <td>A</td>\n",
              "      <td>N</td>\n",
              "      <td>N</td>\n",
              "      <td>D</td>\n",
              "      <td>D</td>\n",
              "      <td>N</td>\n",
              "      <td>A</td>\n",
              "      <td>A</td>\n",
              "      <td>A</td>\n",
              "      <td>A</td>\n",
              "      <td>A</td>\n",
              "      <td>A</td>\n",
              "      <td>SA</td>\n",
              "      <td>SA</td>\n",
              "      <td>D</td>\n",
              "      <td>D</td>\n",
              "      <td>A</td>\n",
              "      <td>N</td>\n",
              "      <td>A</td>\n",
              "      <td>M</td>\n",
              "      <td>Female</td>\n",
              "      <td>61 or older</td>\n",
              "      <td>NaN</td>\n",
              "      <td>NaN</td>\n",
              "      <td>NaN</td>\n",
              "      <td>NaN</td>\n",
              "      <td>NaN</td>\n",
              "    </tr>\n",
              "  </tbody>\n",
              "</table>\n",
              "</div>"
            ],
            "text/plain": [
              "   ID                    SeparationType Cease Date  ... South Sea Disability NESB\n",
              "0   1             Ill Health Retirement    08/2012  ...       NaN        NaN  Yes\n",
              "1   2  Voluntary Early Retirement (VER)    08/2012  ...       NaN        NaN  NaN\n",
              "2   3  Voluntary Early Retirement (VER)    05/2012  ...       NaN        NaN  NaN\n",
              "3   4         Resignation-Other reasons    05/2012  ...       NaN        NaN  NaN\n",
              "4   5                    Age Retirement    05/2012  ...       NaN        NaN  NaN\n",
              "\n",
              "[5 rows x 56 columns]"
            ]
          },
          "metadata": {
            "tags": []
          },
          "execution_count": 4
        }
      ]
    },
    {
      "cell_type": "markdown",
      "metadata": {
        "id": "KTO27ZSbpWIT",
        "colab_type": "text"
      },
      "source": [
        "Some columns such as 'Role Start Date' and 'DETE Start Date' have values such as 'Not Stated' instead of NaN. "
      ]
    },
    {
      "cell_type": "markdown",
      "metadata": {
        "id": "NIkFwOZ0emZG",
        "colab_type": "text"
      },
      "source": [
        "* A - Agree\n",
        "* N - Neutral\n",
        "* D - Disagree\n",
        "* SD - Strongly Disagree\n",
        "* SA - Strongly Agree"
      ]
    },
    {
      "cell_type": "code",
      "metadata": {
        "id": "2iF3vMUqQ07J",
        "colab_type": "code",
        "outputId": "be8c08f5-aeeb-4602-e15f-8d7156f9a831",
        "colab": {
          "base_uri": "https://localhost:8080/",
          "height": 1000
        }
      },
      "source": [
        "dete_survey.info()\n"
      ],
      "execution_count": 5,
      "outputs": [
        {
          "output_type": "stream",
          "text": [
            "<class 'pandas.core.frame.DataFrame'>\n",
            "RangeIndex: 822 entries, 0 to 821\n",
            "Data columns (total 56 columns):\n",
            "ID                                     822 non-null int64\n",
            "SeparationType                         822 non-null object\n",
            "Cease Date                             822 non-null object\n",
            "DETE Start Date                        822 non-null object\n",
            "Role Start Date                        822 non-null object\n",
            "Position                               817 non-null object\n",
            "Classification                         455 non-null object\n",
            "Region                                 822 non-null object\n",
            "Business Unit                          126 non-null object\n",
            "Employment Status                      817 non-null object\n",
            "Career move to public sector           822 non-null bool\n",
            "Career move to private sector          822 non-null bool\n",
            "Interpersonal conflicts                822 non-null bool\n",
            "Job dissatisfaction                    822 non-null bool\n",
            "Dissatisfaction with the department    822 non-null bool\n",
            "Physical work environment              822 non-null bool\n",
            "Lack of recognition                    822 non-null bool\n",
            "Lack of job security                   822 non-null bool\n",
            "Work location                          822 non-null bool\n",
            "Employment conditions                  822 non-null bool\n",
            "Maternity/family                       822 non-null bool\n",
            "Relocation                             822 non-null bool\n",
            "Study/Travel                           822 non-null bool\n",
            "Ill Health                             822 non-null bool\n",
            "Traumatic incident                     822 non-null bool\n",
            "Work life balance                      822 non-null bool\n",
            "Workload                               822 non-null bool\n",
            "None of the above                      822 non-null bool\n",
            "Professional Development               808 non-null object\n",
            "Opportunities for promotion            735 non-null object\n",
            "Staff morale                           816 non-null object\n",
            "Workplace issue                        788 non-null object\n",
            "Physical environment                   817 non-null object\n",
            "Worklife balance                       815 non-null object\n",
            "Stress and pressure support            810 non-null object\n",
            "Performance of supervisor              813 non-null object\n",
            "Peer support                           812 non-null object\n",
            "Initiative                             813 non-null object\n",
            "Skills                                 811 non-null object\n",
            "Coach                                  767 non-null object\n",
            "Career Aspirations                     746 non-null object\n",
            "Feedback                               792 non-null object\n",
            "Further PD                             768 non-null object\n",
            "Communication                          814 non-null object\n",
            "My say                                 812 non-null object\n",
            "Information                            816 non-null object\n",
            "Kept informed                          813 non-null object\n",
            "Wellness programs                      766 non-null object\n",
            "Health & Safety                        793 non-null object\n",
            "Gender                                 798 non-null object\n",
            "Age                                    811 non-null object\n",
            "Aboriginal                             16 non-null object\n",
            "Torres Strait                          3 non-null object\n",
            "South Sea                              7 non-null object\n",
            "Disability                             23 non-null object\n",
            "NESB                                   32 non-null object\n",
            "dtypes: bool(18), int64(1), object(37)\n",
            "memory usage: 258.6+ KB\n"
          ],
          "name": "stdout"
        }
      ]
    },
    {
      "cell_type": "code",
      "metadata": {
        "id": "GPd-VPkPRddK",
        "colab_type": "code",
        "outputId": "0784568e-01da-4deb-9f86-4461c437ae43",
        "colab": {
          "base_uri": "https://localhost:8080/",
          "height": 187
        }
      },
      "source": [
        "dete_survey['SeparationType'].value_counts()"
      ],
      "execution_count": 6,
      "outputs": [
        {
          "output_type": "execute_result",
          "data": {
            "text/plain": [
              "Age Retirement                          285\n",
              "Resignation-Other reasons               150\n",
              "Resignation-Other employer               91\n",
              "Resignation-Move overseas/interstate     70\n",
              "Voluntary Early Retirement (VER)         67\n",
              "Ill Health Retirement                    61\n",
              "Other                                    49\n",
              "Contract Expired                         34\n",
              "Termination                              15\n",
              "Name: SeparationType, dtype: int64"
            ]
          },
          "metadata": {
            "tags": []
          },
          "execution_count": 6
        }
      ]
    },
    {
      "cell_type": "code",
      "metadata": {
        "id": "I7xLS0DER26a",
        "colab_type": "code",
        "outputId": "1286e1fb-9751-42d0-c2b7-2425fe165dea",
        "colab": {
          "base_uri": "https://localhost:8080/",
          "height": 986
        }
      },
      "source": [
        "dete_survey.isnull().sum()"
      ],
      "execution_count": 7,
      "outputs": [
        {
          "output_type": "execute_result",
          "data": {
            "text/plain": [
              "ID                                       0\n",
              "SeparationType                           0\n",
              "Cease Date                               0\n",
              "DETE Start Date                          0\n",
              "Role Start Date                          0\n",
              "Position                                 5\n",
              "Classification                         367\n",
              "Region                                   0\n",
              "Business Unit                          696\n",
              "Employment Status                        5\n",
              "Career move to public sector             0\n",
              "Career move to private sector            0\n",
              "Interpersonal conflicts                  0\n",
              "Job dissatisfaction                      0\n",
              "Dissatisfaction with the department      0\n",
              "Physical work environment                0\n",
              "Lack of recognition                      0\n",
              "Lack of job security                     0\n",
              "Work location                            0\n",
              "Employment conditions                    0\n",
              "Maternity/family                         0\n",
              "Relocation                               0\n",
              "Study/Travel                             0\n",
              "Ill Health                               0\n",
              "Traumatic incident                       0\n",
              "Work life balance                        0\n",
              "Workload                                 0\n",
              "None of the above                        0\n",
              "Professional Development                14\n",
              "Opportunities for promotion             87\n",
              "Staff morale                             6\n",
              "Workplace issue                         34\n",
              "Physical environment                     5\n",
              "Worklife balance                         7\n",
              "Stress and pressure support             12\n",
              "Performance of supervisor                9\n",
              "Peer support                            10\n",
              "Initiative                               9\n",
              "Skills                                  11\n",
              "Coach                                   55\n",
              "Career Aspirations                      76\n",
              "Feedback                                30\n",
              "Further PD                              54\n",
              "Communication                            8\n",
              "My say                                  10\n",
              "Information                              6\n",
              "Kept informed                            9\n",
              "Wellness programs                       56\n",
              "Health & Safety                         29\n",
              "Gender                                  24\n",
              "Age                                     11\n",
              "Aboriginal                             806\n",
              "Torres Strait                          819\n",
              "South Sea                              815\n",
              "Disability                             799\n",
              "NESB                                   790\n",
              "dtype: int64"
            ]
          },
          "metadata": {
            "tags": []
          },
          "execution_count": 7
        }
      ]
    },
    {
      "cell_type": "markdown",
      "metadata": {
        "id": "N4fp15XCdvGR",
        "colab_type": "text"
      },
      "source": [
        "Some columns such as Torres Strait and South Sea have more than 400 non-null values out of 822. We should explore how replacing the null values and dropping such columns would impact the analysis."
      ]
    },
    {
      "cell_type": "markdown",
      "metadata": {
        "id": "5-0qzA3BdVLx",
        "colab_type": "text"
      },
      "source": [
        "### Explore tafe_survey\n"
      ]
    },
    {
      "cell_type": "code",
      "metadata": {
        "id": "Q1pGT6sWdb8Q",
        "colab_type": "code",
        "outputId": "55321e36-1a11-46b5-f052-ac6bd1ae8b0a",
        "colab": {
          "base_uri": "https://localhost:8080/",
          "height": 632
        }
      },
      "source": [
        "tafe_survey.head()"
      ],
      "execution_count": 8,
      "outputs": [
        {
          "output_type": "execute_result",
          "data": {
            "text/html": [
              "<div>\n",
              "<style scoped>\n",
              "    .dataframe tbody tr th:only-of-type {\n",
              "        vertical-align: middle;\n",
              "    }\n",
              "\n",
              "    .dataframe tbody tr th {\n",
              "        vertical-align: top;\n",
              "    }\n",
              "\n",
              "    .dataframe thead th {\n",
              "        text-align: right;\n",
              "    }\n",
              "</style>\n",
              "<table border=\"1\" class=\"dataframe\">\n",
              "  <thead>\n",
              "    <tr style=\"text-align: right;\">\n",
              "      <th></th>\n",
              "      <th>Record ID</th>\n",
              "      <th>Institute</th>\n",
              "      <th>WorkArea</th>\n",
              "      <th>CESSATION YEAR</th>\n",
              "      <th>Reason for ceasing employment</th>\n",
              "      <th>Contributing Factors. Career Move - Public Sector</th>\n",
              "      <th>Contributing Factors. Career Move - Private Sector</th>\n",
              "      <th>Contributing Factors. Career Move - Self-employment</th>\n",
              "      <th>Contributing Factors. Ill Health</th>\n",
              "      <th>Contributing Factors. Maternity/Family</th>\n",
              "      <th>Contributing Factors. Dissatisfaction</th>\n",
              "      <th>Contributing Factors. Job Dissatisfaction</th>\n",
              "      <th>Contributing Factors. Interpersonal Conflict</th>\n",
              "      <th>Contributing Factors. Study</th>\n",
              "      <th>Contributing Factors. Travel</th>\n",
              "      <th>Contributing Factors. Other</th>\n",
              "      <th>Contributing Factors. NONE</th>\n",
              "      <th>Main Factor. Which of these was the main factor for leaving?</th>\n",
              "      <th>InstituteViews. Topic:1. I feel the senior leadership had a clear vision and direction</th>\n",
              "      <th>InstituteViews. Topic:2. I was given access to skills training to help me do my job better</th>\n",
              "      <th>InstituteViews. Topic:3. I was given adequate opportunities for personal development</th>\n",
              "      <th>InstituteViews. Topic:4. I was given adequate opportunities for promotion within %Institute]Q25LBL%</th>\n",
              "      <th>InstituteViews. Topic:5. I felt the salary for the job was right for the responsibilities I had</th>\n",
              "      <th>InstituteViews. Topic:6. The organisation recognised when staff did good work</th>\n",
              "      <th>InstituteViews. Topic:7. Management was generally supportive of me</th>\n",
              "      <th>InstituteViews. Topic:8. Management was generally supportive of my team</th>\n",
              "      <th>InstituteViews. Topic:9. I was kept informed of the changes in the organisation which would affect me</th>\n",
              "      <th>InstituteViews. Topic:10. Staff morale was positive within the Institute</th>\n",
              "      <th>InstituteViews. Topic:11. If I had a workplace issue it was dealt with quickly</th>\n",
              "      <th>InstituteViews. Topic:12. If I had a workplace issue it was dealt with efficiently</th>\n",
              "      <th>InstituteViews. Topic:13. If I had a workplace issue it was dealt with discreetly</th>\n",
              "      <th>WorkUnitViews. Topic:14. I was satisfied with the quality of the management and supervision within my work unit</th>\n",
              "      <th>WorkUnitViews. Topic:15. I worked well with my colleagues</th>\n",
              "      <th>WorkUnitViews. Topic:16. My job was challenging and interesting</th>\n",
              "      <th>WorkUnitViews. Topic:17. I was encouraged to use my initiative in the course of my work</th>\n",
              "      <th>WorkUnitViews. Topic:18. I had sufficient contact with other people in my job</th>\n",
              "      <th>WorkUnitViews. Topic:19. I was given adequate support and co-operation by my peers to enable me to do my job</th>\n",
              "      <th>WorkUnitViews. Topic:20. I was able to use the full range of my skills in my job</th>\n",
              "      <th>WorkUnitViews. Topic:21. I was able to use the full range of my abilities in my job. ; Category:Level of Agreement; Question:YOUR VIEWS ABOUT YOUR WORK UNIT]</th>\n",
              "      <th>WorkUnitViews. Topic:22. I was able to use the full range of my knowledge in my job</th>\n",
              "      <th>WorkUnitViews. Topic:23. My job provided sufficient variety</th>\n",
              "      <th>WorkUnitViews. Topic:24. I was able to cope with the level of stress and pressure in my job</th>\n",
              "      <th>WorkUnitViews. Topic:25. My job allowed me to balance the demands of work and family to my satisfaction</th>\n",
              "      <th>WorkUnitViews. Topic:26. My supervisor gave me adequate personal recognition and feedback on my performance</th>\n",
              "      <th>WorkUnitViews. Topic:27. My working environment was satisfactory e.g. sufficient space, good lighting, suitable seating and working area</th>\n",
              "      <th>WorkUnitViews. Topic:28. I was given the opportunity to mentor and coach others in order for me to pass on my skills and knowledge prior to my cessation date</th>\n",
              "      <th>WorkUnitViews. Topic:29. There was adequate communication between staff in my unit</th>\n",
              "      <th>WorkUnitViews. Topic:30. Staff morale was positive within my work unit</th>\n",
              "      <th>Induction. Did you undertake Workplace Induction?</th>\n",
              "      <th>InductionInfo. Topic:Did you undertake a Corporate Induction?</th>\n",
              "      <th>InductionInfo. Topic:Did you undertake a Institute Induction?</th>\n",
              "      <th>InductionInfo. Topic: Did you undertake Team Induction?</th>\n",
              "      <th>InductionInfo. Face to Face Topic:Did you undertake a Corporate Induction; Category:How it was conducted?</th>\n",
              "      <th>InductionInfo. On-line Topic:Did you undertake a Corporate Induction; Category:How it was conducted?</th>\n",
              "      <th>InductionInfo. Induction Manual Topic:Did you undertake a Corporate Induction?</th>\n",
              "      <th>InductionInfo. Face to Face Topic:Did you undertake a Institute Induction?</th>\n",
              "      <th>InductionInfo. On-line Topic:Did you undertake a Institute Induction?</th>\n",
              "      <th>InductionInfo. Induction Manual Topic:Did you undertake a Institute Induction?</th>\n",
              "      <th>InductionInfo. Face to Face Topic: Did you undertake Team Induction; Category?</th>\n",
              "      <th>InductionInfo. On-line Topic: Did you undertake Team Induction?process you undertook and how it was conducted.]</th>\n",
              "      <th>InductionInfo. Induction Manual Topic: Did you undertake Team Induction?</th>\n",
              "      <th>Workplace. Topic:Did you and your Manager develop a Performance and Professional Development Plan (PPDP)?</th>\n",
              "      <th>Workplace. Topic:Does your workplace promote a work culture free from all forms of unlawful discrimination?</th>\n",
              "      <th>Workplace. Topic:Does your workplace promote and practice the principles of employment equity?</th>\n",
              "      <th>Workplace. Topic:Does your workplace value the diversity of its employees?</th>\n",
              "      <th>Workplace. Topic:Would you recommend the Institute as an employer to others?</th>\n",
              "      <th>Gender. What is your Gender?</th>\n",
              "      <th>CurrentAge. Current Age</th>\n",
              "      <th>Employment Type. Employment Type</th>\n",
              "      <th>Classification. Classification</th>\n",
              "      <th>LengthofServiceOverall. Overall Length of Service at Institute (in years)</th>\n",
              "      <th>LengthofServiceCurrent. Length of Service at current workplace (in years)</th>\n",
              "    </tr>\n",
              "  </thead>\n",
              "  <tbody>\n",
              "    <tr>\n",
              "      <th>0</th>\n",
              "      <td>6.341330e+17</td>\n",
              "      <td>Southern Queensland Institute of TAFE</td>\n",
              "      <td>Non-Delivery (corporate)</td>\n",
              "      <td>2010.0</td>\n",
              "      <td>Contract Expired</td>\n",
              "      <td>NaN</td>\n",
              "      <td>NaN</td>\n",
              "      <td>NaN</td>\n",
              "      <td>NaN</td>\n",
              "      <td>NaN</td>\n",
              "      <td>NaN</td>\n",
              "      <td>NaN</td>\n",
              "      <td>NaN</td>\n",
              "      <td>NaN</td>\n",
              "      <td>NaN</td>\n",
              "      <td>NaN</td>\n",
              "      <td>NaN</td>\n",
              "      <td>NaN</td>\n",
              "      <td>Agree</td>\n",
              "      <td>Agree</td>\n",
              "      <td>Agree</td>\n",
              "      <td>Neutral</td>\n",
              "      <td>Agree</td>\n",
              "      <td>Agree</td>\n",
              "      <td>Agree</td>\n",
              "      <td>Agree</td>\n",
              "      <td>Agree</td>\n",
              "      <td>Agree</td>\n",
              "      <td>Agree</td>\n",
              "      <td>Agree</td>\n",
              "      <td>Agree</td>\n",
              "      <td>Agree</td>\n",
              "      <td>Agree</td>\n",
              "      <td>Agree</td>\n",
              "      <td>Strongly Agree</td>\n",
              "      <td>Agree</td>\n",
              "      <td>Agree</td>\n",
              "      <td>Agree</td>\n",
              "      <td>Agree</td>\n",
              "      <td>Agree</td>\n",
              "      <td>Agree</td>\n",
              "      <td>Agree</td>\n",
              "      <td>Agree</td>\n",
              "      <td>Agree</td>\n",
              "      <td>Agree</td>\n",
              "      <td>Neutral</td>\n",
              "      <td>Agree</td>\n",
              "      <td>Agree</td>\n",
              "      <td>Yes</td>\n",
              "      <td>Yes</td>\n",
              "      <td>Yes</td>\n",
              "      <td>Yes</td>\n",
              "      <td>Face to Face</td>\n",
              "      <td>-</td>\n",
              "      <td>-</td>\n",
              "      <td>Face to Face</td>\n",
              "      <td>-</td>\n",
              "      <td>-</td>\n",
              "      <td>Face to Face</td>\n",
              "      <td>-</td>\n",
              "      <td>-</td>\n",
              "      <td>Yes</td>\n",
              "      <td>Yes</td>\n",
              "      <td>Yes</td>\n",
              "      <td>Yes</td>\n",
              "      <td>Yes</td>\n",
              "      <td>Female</td>\n",
              "      <td>26  30</td>\n",
              "      <td>Temporary Full-time</td>\n",
              "      <td>Administration (AO)</td>\n",
              "      <td>1-2</td>\n",
              "      <td>1-2</td>\n",
              "    </tr>\n",
              "    <tr>\n",
              "      <th>1</th>\n",
              "      <td>6.341337e+17</td>\n",
              "      <td>Mount Isa Institute of TAFE</td>\n",
              "      <td>Non-Delivery (corporate)</td>\n",
              "      <td>2010.0</td>\n",
              "      <td>Retirement</td>\n",
              "      <td>-</td>\n",
              "      <td>-</td>\n",
              "      <td>-</td>\n",
              "      <td>-</td>\n",
              "      <td>-</td>\n",
              "      <td>-</td>\n",
              "      <td>-</td>\n",
              "      <td>-</td>\n",
              "      <td>-</td>\n",
              "      <td>Travel</td>\n",
              "      <td>-</td>\n",
              "      <td>-</td>\n",
              "      <td>NaN</td>\n",
              "      <td>Agree</td>\n",
              "      <td>Agree</td>\n",
              "      <td>Agree</td>\n",
              "      <td>Agree</td>\n",
              "      <td>Agree</td>\n",
              "      <td>Strongly Agree</td>\n",
              "      <td>Strongly Agree</td>\n",
              "      <td>Agree</td>\n",
              "      <td>Strongly Agree</td>\n",
              "      <td>Agree</td>\n",
              "      <td>Agree</td>\n",
              "      <td>Agree</td>\n",
              "      <td>Disagree</td>\n",
              "      <td>Strongly Agree</td>\n",
              "      <td>Strongly Agree</td>\n",
              "      <td>Strongly Agree</td>\n",
              "      <td>Agree</td>\n",
              "      <td>Agree</td>\n",
              "      <td>Agree</td>\n",
              "      <td>Strongly Agree</td>\n",
              "      <td>Agree</td>\n",
              "      <td>Agree</td>\n",
              "      <td>Agree</td>\n",
              "      <td>Strongly Agree</td>\n",
              "      <td>Agree</td>\n",
              "      <td>Strongly Agree</td>\n",
              "      <td>Strongly Agree</td>\n",
              "      <td>Agree</td>\n",
              "      <td>Agree</td>\n",
              "      <td>Strongly Agree</td>\n",
              "      <td>No</td>\n",
              "      <td>NaN</td>\n",
              "      <td>NaN</td>\n",
              "      <td>NaN</td>\n",
              "      <td>NaN</td>\n",
              "      <td>NaN</td>\n",
              "      <td>NaN</td>\n",
              "      <td>NaN</td>\n",
              "      <td>NaN</td>\n",
              "      <td>NaN</td>\n",
              "      <td>NaN</td>\n",
              "      <td>NaN</td>\n",
              "      <td>NaN</td>\n",
              "      <td>Yes</td>\n",
              "      <td>Yes</td>\n",
              "      <td>Yes</td>\n",
              "      <td>Yes</td>\n",
              "      <td>Yes</td>\n",
              "      <td>NaN</td>\n",
              "      <td>NaN</td>\n",
              "      <td>NaN</td>\n",
              "      <td>NaN</td>\n",
              "      <td>NaN</td>\n",
              "      <td>NaN</td>\n",
              "    </tr>\n",
              "    <tr>\n",
              "      <th>2</th>\n",
              "      <td>6.341388e+17</td>\n",
              "      <td>Mount Isa Institute of TAFE</td>\n",
              "      <td>Delivery (teaching)</td>\n",
              "      <td>2010.0</td>\n",
              "      <td>Retirement</td>\n",
              "      <td>-</td>\n",
              "      <td>-</td>\n",
              "      <td>-</td>\n",
              "      <td>-</td>\n",
              "      <td>-</td>\n",
              "      <td>-</td>\n",
              "      <td>-</td>\n",
              "      <td>-</td>\n",
              "      <td>-</td>\n",
              "      <td>-</td>\n",
              "      <td>-</td>\n",
              "      <td>NONE</td>\n",
              "      <td>NaN</td>\n",
              "      <td>Agree</td>\n",
              "      <td>Agree</td>\n",
              "      <td>Agree</td>\n",
              "      <td>Agree</td>\n",
              "      <td>Agree</td>\n",
              "      <td>Agree</td>\n",
              "      <td>Strongly Agree</td>\n",
              "      <td>Agree</td>\n",
              "      <td>Agree</td>\n",
              "      <td>Agree</td>\n",
              "      <td>Agree</td>\n",
              "      <td>Neutral</td>\n",
              "      <td>Neutral</td>\n",
              "      <td>Strongly Agree</td>\n",
              "      <td>Strongly Agree</td>\n",
              "      <td>Agree</td>\n",
              "      <td>Agree</td>\n",
              "      <td>Agree</td>\n",
              "      <td>Agree</td>\n",
              "      <td>Agree</td>\n",
              "      <td>Agree</td>\n",
              "      <td>Agree</td>\n",
              "      <td>Agree</td>\n",
              "      <td>Agree</td>\n",
              "      <td>Agree</td>\n",
              "      <td>Agree</td>\n",
              "      <td>Agree</td>\n",
              "      <td>Agree</td>\n",
              "      <td>Agree</td>\n",
              "      <td>Agree</td>\n",
              "      <td>No</td>\n",
              "      <td>NaN</td>\n",
              "      <td>NaN</td>\n",
              "      <td>NaN</td>\n",
              "      <td>NaN</td>\n",
              "      <td>NaN</td>\n",
              "      <td>NaN</td>\n",
              "      <td>NaN</td>\n",
              "      <td>NaN</td>\n",
              "      <td>NaN</td>\n",
              "      <td>NaN</td>\n",
              "      <td>NaN</td>\n",
              "      <td>NaN</td>\n",
              "      <td>Yes</td>\n",
              "      <td>Yes</td>\n",
              "      <td>Yes</td>\n",
              "      <td>Yes</td>\n",
              "      <td>Yes</td>\n",
              "      <td>NaN</td>\n",
              "      <td>NaN</td>\n",
              "      <td>NaN</td>\n",
              "      <td>NaN</td>\n",
              "      <td>NaN</td>\n",
              "      <td>NaN</td>\n",
              "    </tr>\n",
              "    <tr>\n",
              "      <th>3</th>\n",
              "      <td>6.341399e+17</td>\n",
              "      <td>Mount Isa Institute of TAFE</td>\n",
              "      <td>Non-Delivery (corporate)</td>\n",
              "      <td>2010.0</td>\n",
              "      <td>Resignation</td>\n",
              "      <td>-</td>\n",
              "      <td>-</td>\n",
              "      <td>-</td>\n",
              "      <td>-</td>\n",
              "      <td>-</td>\n",
              "      <td>-</td>\n",
              "      <td>-</td>\n",
              "      <td>-</td>\n",
              "      <td>-</td>\n",
              "      <td>Travel</td>\n",
              "      <td>-</td>\n",
              "      <td>-</td>\n",
              "      <td>NaN</td>\n",
              "      <td>Agree</td>\n",
              "      <td>Agree</td>\n",
              "      <td>Agree</td>\n",
              "      <td>Agree</td>\n",
              "      <td>Agree</td>\n",
              "      <td>Agree</td>\n",
              "      <td>Agree</td>\n",
              "      <td>Agree</td>\n",
              "      <td>Agree</td>\n",
              "      <td>Agree</td>\n",
              "      <td>Agree</td>\n",
              "      <td>Agree</td>\n",
              "      <td>Agree</td>\n",
              "      <td>Strongly Agree</td>\n",
              "      <td>Strongly Agree</td>\n",
              "      <td>Strongly Agree</td>\n",
              "      <td>Strongly Agree</td>\n",
              "      <td>Strongly Agree</td>\n",
              "      <td>Strongly Agree</td>\n",
              "      <td>Strongly Agree</td>\n",
              "      <td>Strongly Agree</td>\n",
              "      <td>Strongly Agree</td>\n",
              "      <td>Strongly Agree</td>\n",
              "      <td>Strongly Agree</td>\n",
              "      <td>Strongly Agree</td>\n",
              "      <td>Strongly Agree</td>\n",
              "      <td>Strongly Agree</td>\n",
              "      <td>Strongly Agree</td>\n",
              "      <td>Strongly Agree</td>\n",
              "      <td>Strongly Agree</td>\n",
              "      <td>Yes</td>\n",
              "      <td>No</td>\n",
              "      <td>Yes</td>\n",
              "      <td>Yes</td>\n",
              "      <td>-</td>\n",
              "      <td>-</td>\n",
              "      <td>-</td>\n",
              "      <td>NaN</td>\n",
              "      <td>-</td>\n",
              "      <td>-</td>\n",
              "      <td>-</td>\n",
              "      <td>-</td>\n",
              "      <td>-</td>\n",
              "      <td>Yes</td>\n",
              "      <td>Yes</td>\n",
              "      <td>Yes</td>\n",
              "      <td>Yes</td>\n",
              "      <td>Yes</td>\n",
              "      <td>NaN</td>\n",
              "      <td>NaN</td>\n",
              "      <td>NaN</td>\n",
              "      <td>NaN</td>\n",
              "      <td>NaN</td>\n",
              "      <td>NaN</td>\n",
              "    </tr>\n",
              "    <tr>\n",
              "      <th>4</th>\n",
              "      <td>6.341466e+17</td>\n",
              "      <td>Southern Queensland Institute of TAFE</td>\n",
              "      <td>Delivery (teaching)</td>\n",
              "      <td>2010.0</td>\n",
              "      <td>Resignation</td>\n",
              "      <td>-</td>\n",
              "      <td>Career Move - Private Sector</td>\n",
              "      <td>-</td>\n",
              "      <td>-</td>\n",
              "      <td>-</td>\n",
              "      <td>-</td>\n",
              "      <td>-</td>\n",
              "      <td>-</td>\n",
              "      <td>-</td>\n",
              "      <td>-</td>\n",
              "      <td>-</td>\n",
              "      <td>-</td>\n",
              "      <td>NaN</td>\n",
              "      <td>Agree</td>\n",
              "      <td>Agree</td>\n",
              "      <td>Strongly Agree</td>\n",
              "      <td>Agree</td>\n",
              "      <td>Strongly Agree</td>\n",
              "      <td>Strongly Agree</td>\n",
              "      <td>Strongly Agree</td>\n",
              "      <td>Strongly Agree</td>\n",
              "      <td>Agree</td>\n",
              "      <td>Strongly Agree</td>\n",
              "      <td>Strongly Agree</td>\n",
              "      <td>Agree</td>\n",
              "      <td>Strongly Agree</td>\n",
              "      <td>Strongly Agree</td>\n",
              "      <td>Strongly Agree</td>\n",
              "      <td>Strongly Agree</td>\n",
              "      <td>Strongly Agree</td>\n",
              "      <td>Strongly Agree</td>\n",
              "      <td>Strongly Agree</td>\n",
              "      <td>Strongly Agree</td>\n",
              "      <td>Strongly Agree</td>\n",
              "      <td>Strongly Agree</td>\n",
              "      <td>Strongly Agree</td>\n",
              "      <td>Strongly Agree</td>\n",
              "      <td>Strongly Agree</td>\n",
              "      <td>Strongly Agree</td>\n",
              "      <td>Strongly Agree</td>\n",
              "      <td>Strongly Agree</td>\n",
              "      <td>Strongly Agree</td>\n",
              "      <td>Strongly Agree</td>\n",
              "      <td>Yes</td>\n",
              "      <td>Yes</td>\n",
              "      <td>Yes</td>\n",
              "      <td>Yes</td>\n",
              "      <td>-</td>\n",
              "      <td>-</td>\n",
              "      <td>Induction Manual</td>\n",
              "      <td>Face to Face</td>\n",
              "      <td>-</td>\n",
              "      <td>-</td>\n",
              "      <td>Face to Face</td>\n",
              "      <td>-</td>\n",
              "      <td>-</td>\n",
              "      <td>Yes</td>\n",
              "      <td>Yes</td>\n",
              "      <td>Yes</td>\n",
              "      <td>Yes</td>\n",
              "      <td>Yes</td>\n",
              "      <td>Male</td>\n",
              "      <td>41  45</td>\n",
              "      <td>Permanent Full-time</td>\n",
              "      <td>Teacher (including LVT)</td>\n",
              "      <td>3-4</td>\n",
              "      <td>3-4</td>\n",
              "    </tr>\n",
              "  </tbody>\n",
              "</table>\n",
              "</div>"
            ],
            "text/plain": [
              "      Record ID  ... LengthofServiceCurrent. Length of Service at current workplace (in years)\n",
              "0  6.341330e+17  ...                                                1-2                       \n",
              "1  6.341337e+17  ...                                                NaN                       \n",
              "2  6.341388e+17  ...                                                NaN                       \n",
              "3  6.341399e+17  ...                                                NaN                       \n",
              "4  6.341466e+17  ...                                                3-4                       \n",
              "\n",
              "[5 rows x 72 columns]"
            ]
          },
          "metadata": {
            "tags": []
          },
          "execution_count": 8
        }
      ]
    },
    {
      "cell_type": "code",
      "metadata": {
        "id": "HjN50uCcdl5w",
        "colab_type": "code",
        "outputId": "d2240071-f21d-4eaa-e8ac-be2965ba8915",
        "colab": {
          "base_uri": "https://localhost:8080/",
          "height": 1000
        }
      },
      "source": [
        "tafe_survey.info()"
      ],
      "execution_count": 9,
      "outputs": [
        {
          "output_type": "stream",
          "text": [
            "<class 'pandas.core.frame.DataFrame'>\n",
            "RangeIndex: 702 entries, 0 to 701\n",
            "Data columns (total 72 columns):\n",
            "Record ID                                                                                                                                                        702 non-null float64\n",
            "Institute                                                                                                                                                        702 non-null object\n",
            "WorkArea                                                                                                                                                         702 non-null object\n",
            "CESSATION YEAR                                                                                                                                                   695 non-null float64\n",
            "Reason for ceasing employment                                                                                                                                    701 non-null object\n",
            "Contributing Factors. Career Move - Public Sector                                                                                                                437 non-null object\n",
            "Contributing Factors. Career Move - Private Sector                                                                                                               437 non-null object\n",
            "Contributing Factors. Career Move - Self-employment                                                                                                              437 non-null object\n",
            "Contributing Factors. Ill Health                                                                                                                                 437 non-null object\n",
            "Contributing Factors. Maternity/Family                                                                                                                           437 non-null object\n",
            "Contributing Factors. Dissatisfaction                                                                                                                            437 non-null object\n",
            "Contributing Factors. Job Dissatisfaction                                                                                                                        437 non-null object\n",
            "Contributing Factors. Interpersonal Conflict                                                                                                                     437 non-null object\n",
            "Contributing Factors. Study                                                                                                                                      437 non-null object\n",
            "Contributing Factors. Travel                                                                                                                                     437 non-null object\n",
            "Contributing Factors. Other                                                                                                                                      437 non-null object\n",
            "Contributing Factors. NONE                                                                                                                                       437 non-null object\n",
            "Main Factor. Which of these was the main factor for leaving?                                                                                                     113 non-null object\n",
            "InstituteViews. Topic:1. I feel the senior leadership had a clear vision and direction                                                                           608 non-null object\n",
            "InstituteViews. Topic:2. I was given access to skills training to help me do my job better                                                                       613 non-null object\n",
            "InstituteViews. Topic:3. I was given adequate opportunities for personal development                                                                             610 non-null object\n",
            "InstituteViews. Topic:4. I was given adequate opportunities for promotion within %Institute]Q25LBL%                                                              608 non-null object\n",
            "InstituteViews. Topic:5. I felt the salary for the job was right for the responsibilities I had                                                                  615 non-null object\n",
            "InstituteViews. Topic:6. The organisation recognised when staff did good work                                                                                    607 non-null object\n",
            "InstituteViews. Topic:7. Management was generally supportive of me                                                                                               614 non-null object\n",
            "InstituteViews. Topic:8. Management was generally supportive of my team                                                                                          608 non-null object\n",
            "InstituteViews. Topic:9. I was kept informed of the changes in the organisation which would affect me                                                            610 non-null object\n",
            "InstituteViews. Topic:10. Staff morale was positive within the Institute                                                                                         602 non-null object\n",
            "InstituteViews. Topic:11. If I had a workplace issue it was dealt with quickly                                                                                   601 non-null object\n",
            "InstituteViews. Topic:12. If I had a workplace issue it was dealt with efficiently                                                                               597 non-null object\n",
            "InstituteViews. Topic:13. If I had a workplace issue it was dealt with discreetly                                                                                601 non-null object\n",
            "WorkUnitViews. Topic:14. I was satisfied with the quality of the management and supervision within my work unit                                                  609 non-null object\n",
            "WorkUnitViews. Topic:15. I worked well with my colleagues                                                                                                        605 non-null object\n",
            "WorkUnitViews. Topic:16. My job was challenging and interesting                                                                                                  607 non-null object\n",
            "WorkUnitViews. Topic:17. I was encouraged to use my initiative in the course of my work                                                                          610 non-null object\n",
            "WorkUnitViews. Topic:18. I had sufficient contact with other people in my job                                                                                    613 non-null object\n",
            "WorkUnitViews. Topic:19. I was given adequate support and co-operation by my peers to enable me to do my job                                                     609 non-null object\n",
            "WorkUnitViews. Topic:20. I was able to use the full range of my skills in my job                                                                                 609 non-null object\n",
            "WorkUnitViews. Topic:21. I was able to use the full range of my abilities in my job. ; Category:Level of Agreement; Question:YOUR VIEWS ABOUT YOUR WORK UNIT]    608 non-null object\n",
            "WorkUnitViews. Topic:22. I was able to use the full range of my knowledge in my job                                                                              608 non-null object\n",
            "WorkUnitViews. Topic:23. My job provided sufficient variety                                                                                                      611 non-null object\n",
            "WorkUnitViews. Topic:24. I was able to cope with the level of stress and pressure in my job                                                                      610 non-null object\n",
            "WorkUnitViews. Topic:25. My job allowed me to balance the demands of work and family to my satisfaction                                                          611 non-null object\n",
            "WorkUnitViews. Topic:26. My supervisor gave me adequate personal recognition and feedback on my performance                                                      606 non-null object\n",
            "WorkUnitViews. Topic:27. My working environment was satisfactory e.g. sufficient space, good lighting, suitable seating and working area                         610 non-null object\n",
            "WorkUnitViews. Topic:28. I was given the opportunity to mentor and coach others in order for me to pass on my skills and knowledge prior to my cessation date    609 non-null object\n",
            "WorkUnitViews. Topic:29. There was adequate communication between staff in my unit                                                                               603 non-null object\n",
            "WorkUnitViews. Topic:30. Staff morale was positive within my work unit                                                                                           606 non-null object\n",
            "Induction. Did you undertake Workplace Induction?                                                                                                                619 non-null object\n",
            "InductionInfo. Topic:Did you undertake a Corporate Induction?                                                                                                    432 non-null object\n",
            "InductionInfo. Topic:Did you undertake a Institute Induction?                                                                                                    483 non-null object\n",
            "InductionInfo. Topic: Did you undertake Team Induction?                                                                                                          440 non-null object\n",
            "InductionInfo. Face to Face Topic:Did you undertake a Corporate Induction; Category:How it was conducted?                                                        555 non-null object\n",
            "InductionInfo. On-line Topic:Did you undertake a Corporate Induction; Category:How it was conducted?                                                             555 non-null object\n",
            "InductionInfo. Induction Manual Topic:Did you undertake a Corporate Induction?                                                                                   555 non-null object\n",
            "InductionInfo. Face to Face Topic:Did you undertake a Institute Induction?                                                                                       530 non-null object\n",
            "InductionInfo. On-line Topic:Did you undertake a Institute Induction?                                                                                            555 non-null object\n",
            "InductionInfo. Induction Manual Topic:Did you undertake a Institute Induction?                                                                                   553 non-null object\n",
            "InductionInfo. Face to Face Topic: Did you undertake Team Induction; Category?                                                                                   555 non-null object\n",
            "InductionInfo. On-line Topic: Did you undertake Team Induction?process you undertook and how it was conducted.]                                                  555 non-null object\n",
            "InductionInfo. Induction Manual Topic: Did you undertake Team Induction?                                                                                         555 non-null object\n",
            "Workplace. Topic:Did you and your Manager develop a Performance and Professional Development Plan (PPDP)?                                                        608 non-null object\n",
            "Workplace. Topic:Does your workplace promote a work culture free from all forms of unlawful discrimination?                                                      594 non-null object\n",
            "Workplace. Topic:Does your workplace promote and practice the principles of employment equity?                                                                   587 non-null object\n",
            "Workplace. Topic:Does your workplace value the diversity of its employees?                                                                                       586 non-null object\n",
            "Workplace. Topic:Would you recommend the Institute as an employer to others?                                                                                     581 non-null object\n",
            "Gender. What is your Gender?                                                                                                                                     596 non-null object\n",
            "CurrentAge. Current Age                                                                                                                                          596 non-null object\n",
            "Employment Type. Employment Type                                                                                                                                 596 non-null object\n",
            "Classification. Classification                                                                                                                                   596 non-null object\n",
            "LengthofServiceOverall. Overall Length of Service at Institute (in years)                                                                                        596 non-null object\n",
            "LengthofServiceCurrent. Length of Service at current workplace (in years)                                                                                        596 non-null object\n",
            "dtypes: float64(2), object(70)\n",
            "memory usage: 395.0+ KB\n"
          ],
          "name": "stdout"
        }
      ]
    },
    {
      "cell_type": "markdown",
      "metadata": {
        "id": "z5gI8mGCeYzM",
        "colab_type": "text"
      },
      "source": [
        "The column names need to be renamed with more concise names. The columns can be transformed into variables with their corresponding values."
      ]
    },
    {
      "cell_type": "code",
      "metadata": {
        "id": "CK2kf6mypuRx",
        "colab_type": "code",
        "outputId": "6c868c86-cf5c-4365-e725-d237d34dc305",
        "colab": {
          "base_uri": "https://localhost:8080/",
          "height": 136
        }
      },
      "source": [
        "tafe_survey['Reason for ceasing employment'].value_counts()"
      ],
      "execution_count": 10,
      "outputs": [
        {
          "output_type": "execute_result",
          "data": {
            "text/plain": [
              "Resignation                 340\n",
              "Contract Expired            127\n",
              "Retrenchment/ Redundancy    104\n",
              "Retirement                   82\n",
              "Transfer                     25\n",
              "Termination                  23\n",
              "Name: Reason for ceasing employment, dtype: int64"
            ]
          },
          "metadata": {
            "tags": []
          },
          "execution_count": 10
        }
      ]
    },
    {
      "cell_type": "code",
      "metadata": {
        "id": "JiuaKzLaptkd",
        "colab_type": "code",
        "outputId": "5c07169f-f732-4ffc-9c70-7f4ff88a2c8f",
        "colab": {
          "base_uri": "https://localhost:8080/",
          "height": 221
        }
      },
      "source": [
        "tafe_survey.isnull().sum()"
      ],
      "execution_count": 11,
      "outputs": [
        {
          "output_type": "execute_result",
          "data": {
            "text/plain": [
              "Record ID                                                                      0\n",
              "Institute                                                                      0\n",
              "WorkArea                                                                       0\n",
              "CESSATION YEAR                                                                 7\n",
              "Reason for ceasing employment                                                  1\n",
              "                                                                            ... \n",
              "CurrentAge. Current Age                                                      106\n",
              "Employment Type. Employment Type                                             106\n",
              "Classification. Classification                                               106\n",
              "LengthofServiceOverall. Overall Length of Service at Institute (in years)    106\n",
              "LengthofServiceCurrent. Length of Service at current workplace (in years)    106\n",
              "Length: 72, dtype: int64"
            ]
          },
          "metadata": {
            "tags": []
          },
          "execution_count": 11
        }
      ]
    },
    {
      "cell_type": "markdown",
      "metadata": {
        "id": "T2T9P6mmSPqp",
        "colab_type": "text"
      },
      "source": [
        "## Identify Missing Values \n",
        "\n",
        "We will find \"Not Stated\" values and represent them as NaN"
      ]
    },
    {
      "cell_type": "code",
      "metadata": {
        "id": "qrN5LPdYSor3",
        "colab_type": "code",
        "outputId": "91a299f9-fac5-4411-a1b2-4c7cb78fcf41",
        "colab": {
          "base_uri": "https://localhost:8080/",
          "height": 479
        }
      },
      "source": [
        "dete_survey = pd.read_csv('/content/drive/My Drive/Data Science /Data/Employee Exit Surveys/dete_survey.csv', na_values= 'Not Stated')\n",
        "dete_survey.head()"
      ],
      "execution_count": 12,
      "outputs": [
        {
          "output_type": "execute_result",
          "data": {
            "text/html": [
              "<div>\n",
              "<style scoped>\n",
              "    .dataframe tbody tr th:only-of-type {\n",
              "        vertical-align: middle;\n",
              "    }\n",
              "\n",
              "    .dataframe tbody tr th {\n",
              "        vertical-align: top;\n",
              "    }\n",
              "\n",
              "    .dataframe thead th {\n",
              "        text-align: right;\n",
              "    }\n",
              "</style>\n",
              "<table border=\"1\" class=\"dataframe\">\n",
              "  <thead>\n",
              "    <tr style=\"text-align: right;\">\n",
              "      <th></th>\n",
              "      <th>ID</th>\n",
              "      <th>SeparationType</th>\n",
              "      <th>Cease Date</th>\n",
              "      <th>DETE Start Date</th>\n",
              "      <th>Role Start Date</th>\n",
              "      <th>Position</th>\n",
              "      <th>Classification</th>\n",
              "      <th>Region</th>\n",
              "      <th>Business Unit</th>\n",
              "      <th>Employment Status</th>\n",
              "      <th>Career move to public sector</th>\n",
              "      <th>Career move to private sector</th>\n",
              "      <th>Interpersonal conflicts</th>\n",
              "      <th>Job dissatisfaction</th>\n",
              "      <th>Dissatisfaction with the department</th>\n",
              "      <th>Physical work environment</th>\n",
              "      <th>Lack of recognition</th>\n",
              "      <th>Lack of job security</th>\n",
              "      <th>Work location</th>\n",
              "      <th>Employment conditions</th>\n",
              "      <th>Maternity/family</th>\n",
              "      <th>Relocation</th>\n",
              "      <th>Study/Travel</th>\n",
              "      <th>Ill Health</th>\n",
              "      <th>Traumatic incident</th>\n",
              "      <th>Work life balance</th>\n",
              "      <th>Workload</th>\n",
              "      <th>None of the above</th>\n",
              "      <th>Professional Development</th>\n",
              "      <th>Opportunities for promotion</th>\n",
              "      <th>Staff morale</th>\n",
              "      <th>Workplace issue</th>\n",
              "      <th>Physical environment</th>\n",
              "      <th>Worklife balance</th>\n",
              "      <th>Stress and pressure support</th>\n",
              "      <th>Performance of supervisor</th>\n",
              "      <th>Peer support</th>\n",
              "      <th>Initiative</th>\n",
              "      <th>Skills</th>\n",
              "      <th>Coach</th>\n",
              "      <th>Career Aspirations</th>\n",
              "      <th>Feedback</th>\n",
              "      <th>Further PD</th>\n",
              "      <th>Communication</th>\n",
              "      <th>My say</th>\n",
              "      <th>Information</th>\n",
              "      <th>Kept informed</th>\n",
              "      <th>Wellness programs</th>\n",
              "      <th>Health &amp; Safety</th>\n",
              "      <th>Gender</th>\n",
              "      <th>Age</th>\n",
              "      <th>Aboriginal</th>\n",
              "      <th>Torres Strait</th>\n",
              "      <th>South Sea</th>\n",
              "      <th>Disability</th>\n",
              "      <th>NESB</th>\n",
              "    </tr>\n",
              "  </thead>\n",
              "  <tbody>\n",
              "    <tr>\n",
              "      <th>0</th>\n",
              "      <td>1</td>\n",
              "      <td>Ill Health Retirement</td>\n",
              "      <td>08/2012</td>\n",
              "      <td>1984.0</td>\n",
              "      <td>2004.0</td>\n",
              "      <td>Public Servant</td>\n",
              "      <td>A01-A04</td>\n",
              "      <td>Central Office</td>\n",
              "      <td>Corporate Strategy and Peformance</td>\n",
              "      <td>Permanent Full-time</td>\n",
              "      <td>True</td>\n",
              "      <td>False</td>\n",
              "      <td>False</td>\n",
              "      <td>True</td>\n",
              "      <td>False</td>\n",
              "      <td>False</td>\n",
              "      <td>True</td>\n",
              "      <td>False</td>\n",
              "      <td>False</td>\n",
              "      <td>False</td>\n",
              "      <td>False</td>\n",
              "      <td>False</td>\n",
              "      <td>False</td>\n",
              "      <td>False</td>\n",
              "      <td>False</td>\n",
              "      <td>False</td>\n",
              "      <td>False</td>\n",
              "      <td>True</td>\n",
              "      <td>A</td>\n",
              "      <td>A</td>\n",
              "      <td>N</td>\n",
              "      <td>N</td>\n",
              "      <td>N</td>\n",
              "      <td>A</td>\n",
              "      <td>A</td>\n",
              "      <td>A</td>\n",
              "      <td>A</td>\n",
              "      <td>N</td>\n",
              "      <td>N</td>\n",
              "      <td>N</td>\n",
              "      <td>A</td>\n",
              "      <td>A</td>\n",
              "      <td>A</td>\n",
              "      <td>N</td>\n",
              "      <td>A</td>\n",
              "      <td>A</td>\n",
              "      <td>N</td>\n",
              "      <td>N</td>\n",
              "      <td>N</td>\n",
              "      <td>Male</td>\n",
              "      <td>56-60</td>\n",
              "      <td>NaN</td>\n",
              "      <td>NaN</td>\n",
              "      <td>NaN</td>\n",
              "      <td>NaN</td>\n",
              "      <td>Yes</td>\n",
              "    </tr>\n",
              "    <tr>\n",
              "      <th>1</th>\n",
              "      <td>2</td>\n",
              "      <td>Voluntary Early Retirement (VER)</td>\n",
              "      <td>08/2012</td>\n",
              "      <td>NaN</td>\n",
              "      <td>NaN</td>\n",
              "      <td>Public Servant</td>\n",
              "      <td>AO5-AO7</td>\n",
              "      <td>Central Office</td>\n",
              "      <td>Corporate Strategy and Peformance</td>\n",
              "      <td>Permanent Full-time</td>\n",
              "      <td>False</td>\n",
              "      <td>False</td>\n",
              "      <td>False</td>\n",
              "      <td>False</td>\n",
              "      <td>False</td>\n",
              "      <td>False</td>\n",
              "      <td>False</td>\n",
              "      <td>False</td>\n",
              "      <td>False</td>\n",
              "      <td>False</td>\n",
              "      <td>False</td>\n",
              "      <td>False</td>\n",
              "      <td>False</td>\n",
              "      <td>False</td>\n",
              "      <td>False</td>\n",
              "      <td>False</td>\n",
              "      <td>False</td>\n",
              "      <td>False</td>\n",
              "      <td>A</td>\n",
              "      <td>A</td>\n",
              "      <td>N</td>\n",
              "      <td>N</td>\n",
              "      <td>N</td>\n",
              "      <td>N</td>\n",
              "      <td>A</td>\n",
              "      <td>A</td>\n",
              "      <td>A</td>\n",
              "      <td>N</td>\n",
              "      <td>N</td>\n",
              "      <td>N</td>\n",
              "      <td>A</td>\n",
              "      <td>A</td>\n",
              "      <td>A</td>\n",
              "      <td>N</td>\n",
              "      <td>A</td>\n",
              "      <td>A</td>\n",
              "      <td>N</td>\n",
              "      <td>N</td>\n",
              "      <td>N</td>\n",
              "      <td>Male</td>\n",
              "      <td>56-60</td>\n",
              "      <td>NaN</td>\n",
              "      <td>NaN</td>\n",
              "      <td>NaN</td>\n",
              "      <td>NaN</td>\n",
              "      <td>NaN</td>\n",
              "    </tr>\n",
              "    <tr>\n",
              "      <th>2</th>\n",
              "      <td>3</td>\n",
              "      <td>Voluntary Early Retirement (VER)</td>\n",
              "      <td>05/2012</td>\n",
              "      <td>2011.0</td>\n",
              "      <td>2011.0</td>\n",
              "      <td>Schools Officer</td>\n",
              "      <td>NaN</td>\n",
              "      <td>Central Office</td>\n",
              "      <td>Education Queensland</td>\n",
              "      <td>Permanent Full-time</td>\n",
              "      <td>False</td>\n",
              "      <td>False</td>\n",
              "      <td>False</td>\n",
              "      <td>False</td>\n",
              "      <td>False</td>\n",
              "      <td>False</td>\n",
              "      <td>False</td>\n",
              "      <td>False</td>\n",
              "      <td>False</td>\n",
              "      <td>False</td>\n",
              "      <td>False</td>\n",
              "      <td>False</td>\n",
              "      <td>False</td>\n",
              "      <td>False</td>\n",
              "      <td>False</td>\n",
              "      <td>False</td>\n",
              "      <td>False</td>\n",
              "      <td>True</td>\n",
              "      <td>N</td>\n",
              "      <td>N</td>\n",
              "      <td>N</td>\n",
              "      <td>N</td>\n",
              "      <td>N</td>\n",
              "      <td>N</td>\n",
              "      <td>N</td>\n",
              "      <td>N</td>\n",
              "      <td>N</td>\n",
              "      <td>N</td>\n",
              "      <td>N</td>\n",
              "      <td>N</td>\n",
              "      <td>N</td>\n",
              "      <td>N</td>\n",
              "      <td>N</td>\n",
              "      <td>A</td>\n",
              "      <td>A</td>\n",
              "      <td>N</td>\n",
              "      <td>N</td>\n",
              "      <td>N</td>\n",
              "      <td>N</td>\n",
              "      <td>Male</td>\n",
              "      <td>61 or older</td>\n",
              "      <td>NaN</td>\n",
              "      <td>NaN</td>\n",
              "      <td>NaN</td>\n",
              "      <td>NaN</td>\n",
              "      <td>NaN</td>\n",
              "    </tr>\n",
              "    <tr>\n",
              "      <th>3</th>\n",
              "      <td>4</td>\n",
              "      <td>Resignation-Other reasons</td>\n",
              "      <td>05/2012</td>\n",
              "      <td>2005.0</td>\n",
              "      <td>2006.0</td>\n",
              "      <td>Teacher</td>\n",
              "      <td>Primary</td>\n",
              "      <td>Central Queensland</td>\n",
              "      <td>NaN</td>\n",
              "      <td>Permanent Full-time</td>\n",
              "      <td>False</td>\n",
              "      <td>True</td>\n",
              "      <td>False</td>\n",
              "      <td>False</td>\n",
              "      <td>False</td>\n",
              "      <td>False</td>\n",
              "      <td>False</td>\n",
              "      <td>False</td>\n",
              "      <td>False</td>\n",
              "      <td>False</td>\n",
              "      <td>False</td>\n",
              "      <td>False</td>\n",
              "      <td>False</td>\n",
              "      <td>False</td>\n",
              "      <td>False</td>\n",
              "      <td>False</td>\n",
              "      <td>False</td>\n",
              "      <td>False</td>\n",
              "      <td>A</td>\n",
              "      <td>N</td>\n",
              "      <td>N</td>\n",
              "      <td>N</td>\n",
              "      <td>A</td>\n",
              "      <td>A</td>\n",
              "      <td>N</td>\n",
              "      <td>N</td>\n",
              "      <td>A</td>\n",
              "      <td>A</td>\n",
              "      <td>A</td>\n",
              "      <td>A</td>\n",
              "      <td>A</td>\n",
              "      <td>A</td>\n",
              "      <td>A</td>\n",
              "      <td>A</td>\n",
              "      <td>A</td>\n",
              "      <td>A</td>\n",
              "      <td>A</td>\n",
              "      <td>N</td>\n",
              "      <td>A</td>\n",
              "      <td>Female</td>\n",
              "      <td>36-40</td>\n",
              "      <td>NaN</td>\n",
              "      <td>NaN</td>\n",
              "      <td>NaN</td>\n",
              "      <td>NaN</td>\n",
              "      <td>NaN</td>\n",
              "    </tr>\n",
              "    <tr>\n",
              "      <th>4</th>\n",
              "      <td>5</td>\n",
              "      <td>Age Retirement</td>\n",
              "      <td>05/2012</td>\n",
              "      <td>1970.0</td>\n",
              "      <td>1989.0</td>\n",
              "      <td>Head of Curriculum/Head of Special Education</td>\n",
              "      <td>NaN</td>\n",
              "      <td>South East</td>\n",
              "      <td>NaN</td>\n",
              "      <td>Permanent Full-time</td>\n",
              "      <td>False</td>\n",
              "      <td>False</td>\n",
              "      <td>False</td>\n",
              "      <td>False</td>\n",
              "      <td>False</td>\n",
              "      <td>False</td>\n",
              "      <td>False</td>\n",
              "      <td>False</td>\n",
              "      <td>False</td>\n",
              "      <td>False</td>\n",
              "      <td>False</td>\n",
              "      <td>False</td>\n",
              "      <td>False</td>\n",
              "      <td>False</td>\n",
              "      <td>False</td>\n",
              "      <td>True</td>\n",
              "      <td>False</td>\n",
              "      <td>False</td>\n",
              "      <td>A</td>\n",
              "      <td>A</td>\n",
              "      <td>N</td>\n",
              "      <td>N</td>\n",
              "      <td>D</td>\n",
              "      <td>D</td>\n",
              "      <td>N</td>\n",
              "      <td>A</td>\n",
              "      <td>A</td>\n",
              "      <td>A</td>\n",
              "      <td>A</td>\n",
              "      <td>A</td>\n",
              "      <td>A</td>\n",
              "      <td>SA</td>\n",
              "      <td>SA</td>\n",
              "      <td>D</td>\n",
              "      <td>D</td>\n",
              "      <td>A</td>\n",
              "      <td>N</td>\n",
              "      <td>A</td>\n",
              "      <td>M</td>\n",
              "      <td>Female</td>\n",
              "      <td>61 or older</td>\n",
              "      <td>NaN</td>\n",
              "      <td>NaN</td>\n",
              "      <td>NaN</td>\n",
              "      <td>NaN</td>\n",
              "      <td>NaN</td>\n",
              "    </tr>\n",
              "  </tbody>\n",
              "</table>\n",
              "</div>"
            ],
            "text/plain": [
              "   ID                    SeparationType Cease Date  ...  South Sea  Disability NESB\n",
              "0   1             Ill Health Retirement    08/2012  ...        NaN         NaN  Yes\n",
              "1   2  Voluntary Early Retirement (VER)    08/2012  ...        NaN         NaN  NaN\n",
              "2   3  Voluntary Early Retirement (VER)    05/2012  ...        NaN         NaN  NaN\n",
              "3   4         Resignation-Other reasons    05/2012  ...        NaN         NaN  NaN\n",
              "4   5                    Age Retirement    05/2012  ...        NaN         NaN  NaN\n",
              "\n",
              "[5 rows x 56 columns]"
            ]
          },
          "metadata": {
            "tags": []
          },
          "execution_count": 12
        }
      ]
    },
    {
      "cell_type": "markdown",
      "metadata": {
        "id": "30GpeGLjax4-",
        "colab_type": "text"
      },
      "source": [
        "## Drop Unnecessary Columns\n",
        "Drop columns that are not needed for analysis"
      ]
    },
    {
      "cell_type": "code",
      "metadata": {
        "id": "K2Jzgp-6aw3S",
        "colab_type": "code",
        "outputId": "c3b721b8-7207-4f6d-fbc0-2a05aa42cd36",
        "colab": {
          "base_uri": "https://localhost:8080/",
          "height": 510
        }
      },
      "source": [
        "# Remove columns we don't need for our analysis\n",
        "dete_survey_updated = dete_survey.drop(dete_survey.columns[28:49], axis=1)\n",
        "tafe_survey_updated = tafe_survey.drop(tafe_survey.columns[17:66], axis=1)\n",
        "\n",
        "#Check that the columns were dropped\n",
        "print(dete_survey_updated.columns)\n",
        "print(tafe_survey_updated.columns)"
      ],
      "execution_count": 13,
      "outputs": [
        {
          "output_type": "stream",
          "text": [
            "Index(['ID', 'SeparationType', 'Cease Date', 'DETE Start Date',\n",
            "       'Role Start Date', 'Position', 'Classification', 'Region',\n",
            "       'Business Unit', 'Employment Status', 'Career move to public sector',\n",
            "       'Career move to private sector', 'Interpersonal conflicts',\n",
            "       'Job dissatisfaction', 'Dissatisfaction with the department',\n",
            "       'Physical work environment', 'Lack of recognition',\n",
            "       'Lack of job security', 'Work location', 'Employment conditions',\n",
            "       'Maternity/family', 'Relocation', 'Study/Travel', 'Ill Health',\n",
            "       'Traumatic incident', 'Work life balance', 'Workload',\n",
            "       'None of the above', 'Gender', 'Age', 'Aboriginal', 'Torres Strait',\n",
            "       'South Sea', 'Disability', 'NESB'],\n",
            "      dtype='object')\n",
            "Index(['Record ID', 'Institute', 'WorkArea', 'CESSATION YEAR',\n",
            "       'Reason for ceasing employment',\n",
            "       'Contributing Factors. Career Move - Public Sector ',\n",
            "       'Contributing Factors. Career Move - Private Sector ',\n",
            "       'Contributing Factors. Career Move - Self-employment',\n",
            "       'Contributing Factors. Ill Health',\n",
            "       'Contributing Factors. Maternity/Family',\n",
            "       'Contributing Factors. Dissatisfaction',\n",
            "       'Contributing Factors. Job Dissatisfaction',\n",
            "       'Contributing Factors. Interpersonal Conflict',\n",
            "       'Contributing Factors. Study', 'Contributing Factors. Travel',\n",
            "       'Contributing Factors. Other', 'Contributing Factors. NONE',\n",
            "       'Gender. What is your Gender?', 'CurrentAge. Current Age',\n",
            "       'Employment Type. Employment Type', 'Classification. Classification',\n",
            "       'LengthofServiceOverall. Overall Length of Service at Institute (in years)',\n",
            "       'LengthofServiceCurrent. Length of Service at current workplace (in years)'],\n",
            "      dtype='object')\n"
          ],
          "name": "stdout"
        }
      ]
    },
    {
      "cell_type": "markdown",
      "metadata": {
        "id": "ovpv2lzriWPq",
        "colab_type": "text"
      },
      "source": [
        "## Update Column names\n",
        "Each dataframe contains many of the same columns, but the column names are different. Below are some of the columns we'd like to use for our final analysis:\n",
        "\n",
        "\n",
        "\n",
        "|dete_survey|tafe_survey|Definition|\n",
        "|-----------|------------|----------|\n",
        "|ID\t|Record ID\t|An id used to identify the participant of the survey|\n",
        "SeparationType|\tReason for ceasing employment|The reason why the participant's employment ended\n",
        "Cease Date|\tCESSATION YEAR|\tThe year or month the participant's employment ended\n",
        "DETE Start Date\t| |The year the participant began employment with the DETE\n",
        "||LengthofServiceOverall.Overall Length of Service at Institute (in years)|The length of the person's employment (in years)\n",
        "Age\t|CurrentAge.Current Age|The age of the participant\n",
        "Gender|\tGender.What is your Gender?|The gender of the participant\n",
        "\n",
        "\n",
        "Because we eventually want to combine them, we'll have to standardize the column names."
      ]
    },
    {
      "cell_type": "code",
      "metadata": {
        "id": "tFAopTasmLN-",
        "colab_type": "code",
        "outputId": "a011803d-ffeb-4974-f6f1-f1b1c8b6ef90",
        "colab": {
          "base_uri": "https://localhost:8080/",
          "height": 221
        }
      },
      "source": [
        "dete_survey_updated.columns = dete_survey_updated.columns.str.strip().str.replace(\" \",\"_\").str.lower()\n",
        "print(dete_survey_updated.columns)"
      ],
      "execution_count": 14,
      "outputs": [
        {
          "output_type": "stream",
          "text": [
            "Index(['id', 'separationtype', 'cease_date', 'dete_start_date',\n",
            "       'role_start_date', 'position', 'classification', 'region',\n",
            "       'business_unit', 'employment_status', 'career_move_to_public_sector',\n",
            "       'career_move_to_private_sector', 'interpersonal_conflicts',\n",
            "       'job_dissatisfaction', 'dissatisfaction_with_the_department',\n",
            "       'physical_work_environment', 'lack_of_recognition',\n",
            "       'lack_of_job_security', 'work_location', 'employment_conditions',\n",
            "       'maternity/family', 'relocation', 'study/travel', 'ill_health',\n",
            "       'traumatic_incident', 'work_life_balance', 'workload',\n",
            "       'none_of_the_above', 'gender', 'age', 'aboriginal', 'torres_strait',\n",
            "       'south_sea', 'disability', 'nesb'],\n",
            "      dtype='object')\n"
          ],
          "name": "stdout"
        }
      ]
    },
    {
      "cell_type": "markdown",
      "metadata": {
        "id": "We8GX1LxpvM2",
        "colab_type": "text"
      },
      "source": [
        "### Rename TAFE column names\n",
        "We are renaming TAFE column names to match DETE column names before they are combined.\n"
      ]
    },
    {
      "cell_type": "code",
      "metadata": {
        "id": "eyif8HBCqAcW",
        "colab_type": "code",
        "colab": {}
      },
      "source": [
        "new_column_names = {'Record ID': 'id',\n",
        "'CESSATION YEAR': 'cease_date',\n",
        "'Reason for ceasing employment': 'separationtype',\n",
        "'Gender. What is your Gender?': 'gender',\n",
        "'CurrentAge. Current Age': 'age',\n",
        "'Employment Type. Employment Type': 'employment_status',\n",
        "'Classification. Classification': 'position',\n",
        "'LengthofServiceOverall. Overall Length of Service at Institute (in years)': 'institute_service',\n",
        "'LengthofServiceCurrent. Length of Service at current workplace (in years)': 'role_service'}\n",
        "\n",
        "tafe_survey_updated = tafe_survey_updated.rename(columns=new_column_names)\n"
      ],
      "execution_count": 0,
      "outputs": []
    },
    {
      "cell_type": "code",
      "metadata": {
        "id": "Jx6WonvYq92d",
        "colab_type": "code",
        "outputId": "4babd6be-48d7-4121-96be-e0e02c283e64",
        "colab": {
          "base_uri": "https://localhost:8080/",
          "height": 255
        }
      },
      "source": [
        "# check that column names are renamed\n",
        "print(tafe_survey_updated.columns)"
      ],
      "execution_count": 16,
      "outputs": [
        {
          "output_type": "stream",
          "text": [
            "Index(['id', 'Institute', 'WorkArea', 'cease_date', 'separationtype',\n",
            "       'Contributing Factors. Career Move - Public Sector ',\n",
            "       'Contributing Factors. Career Move - Private Sector ',\n",
            "       'Contributing Factors. Career Move - Self-employment',\n",
            "       'Contributing Factors. Ill Health',\n",
            "       'Contributing Factors. Maternity/Family',\n",
            "       'Contributing Factors. Dissatisfaction',\n",
            "       'Contributing Factors. Job Dissatisfaction',\n",
            "       'Contributing Factors. Interpersonal Conflict',\n",
            "       'Contributing Factors. Study', 'Contributing Factors. Travel',\n",
            "       'Contributing Factors. Other', 'Contributing Factors. NONE', 'gender',\n",
            "       'age', 'employment_status', 'position', 'institute_service',\n",
            "       'role_service'],\n",
            "      dtype='object')\n"
          ],
          "name": "stdout"
        }
      ]
    },
    {
      "cell_type": "markdown",
      "metadata": {
        "id": "Pkwt1FuzyS98",
        "colab_type": "text"
      },
      "source": [
        "## Analyze survey respondants with Resignation as separation type\n",
        "\n",
        "If we look at the unique values in the separationtype columns in each dataframe, we will see that each contains a couple of different separation types.We will only analyze survey respondents who resigned, so their separation type contains the string 'Resignation'.\n",
        "\n",
        "The dete_survey_updated dataframe contains multiple separation types with the string 'Resignation':\n",
        "\n",
        "Resignation-Other reasons\n",
        "Resignation-Other employer\n",
        "Resignation-Move overseas/interstate"
      ]
    },
    {
      "cell_type": "code",
      "metadata": {
        "id": "rxZEmYJFy5VO",
        "colab_type": "code",
        "outputId": "4b1c095b-2e9e-427a-9096-0e0b97a4a458",
        "colab": {
          "base_uri": "https://localhost:8080/",
          "height": 187
        }
      },
      "source": [
        "dete_survey_updated['separationtype'].value_counts()"
      ],
      "execution_count": 17,
      "outputs": [
        {
          "output_type": "execute_result",
          "data": {
            "text/plain": [
              "Age Retirement                          285\n",
              "Resignation-Other reasons               150\n",
              "Resignation-Other employer               91\n",
              "Resignation-Move overseas/interstate     70\n",
              "Voluntary Early Retirement (VER)         67\n",
              "Ill Health Retirement                    61\n",
              "Other                                    49\n",
              "Contract Expired                         34\n",
              "Termination                              15\n",
              "Name: separationtype, dtype: int64"
            ]
          },
          "metadata": {
            "tags": []
          },
          "execution_count": 17
        }
      ]
    },
    {
      "cell_type": "code",
      "metadata": {
        "id": "9D0Z4qeEzKhr",
        "colab_type": "code",
        "outputId": "2a61a77a-f34b-4574-b6d4-8045dc87d609",
        "colab": {
          "base_uri": "https://localhost:8080/",
          "height": 136
        }
      },
      "source": [
        "tafe_survey_updated['separationtype'].value_counts()"
      ],
      "execution_count": 18,
      "outputs": [
        {
          "output_type": "execute_result",
          "data": {
            "text/plain": [
              "Resignation                 340\n",
              "Contract Expired            127\n",
              "Retrenchment/ Redundancy    104\n",
              "Retirement                   82\n",
              "Transfer                     25\n",
              "Termination                  23\n",
              "Name: separationtype, dtype: int64"
            ]
          },
          "metadata": {
            "tags": []
          },
          "execution_count": 18
        }
      ]
    },
    {
      "cell_type": "code",
      "metadata": {
        "id": "bk2XST_D7dR8",
        "colab_type": "code",
        "outputId": "e4607de9-f175-4126-91ff-f7c27ecf6562",
        "colab": {
          "base_uri": "https://localhost:8080/",
          "height": 153
        }
      },
      "source": [
        "# Update all separation types containing the word \"resignation\" to 'Resignation'\n",
        "dete_survey_updated['separationtype'] = dete_survey_updated['separationtype'].str.split('-').str[0]\n",
        "\n",
        "# Check the values in the separationtype column were updated correctly\n",
        "dete_survey_updated['separationtype'].value_counts()"
      ],
      "execution_count": 19,
      "outputs": [
        {
          "output_type": "execute_result",
          "data": {
            "text/plain": [
              "Resignation                         311\n",
              "Age Retirement                      285\n",
              "Voluntary Early Retirement (VER)     67\n",
              "Ill Health Retirement                61\n",
              "Other                                49\n",
              "Contract Expired                     34\n",
              "Termination                          15\n",
              "Name: separationtype, dtype: int64"
            ]
          },
          "metadata": {
            "tags": []
          },
          "execution_count": 19
        }
      ]
    },
    {
      "cell_type": "code",
      "metadata": {
        "id": "D-JnkZBd7hWd",
        "colab_type": "code",
        "colab": {}
      },
      "source": [
        "\n",
        "# Select only the resignation separation types from each dataframe\n",
        "dete_resignations = dete_survey_updated[dete_survey_updated['separationtype'] == 'Resignation'].copy()\n",
        "tafe_resignations = tafe_survey_updated[tafe_survey_updated['separationtype'] == 'Resignation'].copy()"
      ],
      "execution_count": 0,
      "outputs": []
    },
    {
      "cell_type": "markdown",
      "metadata": {
        "id": "MJJVcgpIFrox",
        "colab_type": "text"
      },
      "source": [
        "## Verify the Data\n",
        "Below, we clean and explore the cease_date and dete_start_date columns to make sure all of the years make sense. We'll use the following criteria:\n",
        "\n",
        "* Since the cease_date is the last year of the person's employment and the dete_start_date is the person's first year of employment, it wouldn't make sense to have years after the current date.\n",
        "* Given that most people in this field start working in their 20s, it's also unlikely that the dete_start_date was before the year 1940."
      ]
    },
    {
      "cell_type": "code",
      "metadata": {
        "id": "xkx3DIS8F6EU",
        "colab_type": "code",
        "outputId": "1b97e098-2207-4349-8408-0d9283a005d3",
        "colab": {
          "base_uri": "https://localhost:8080/",
          "height": 306
        }
      },
      "source": [
        "# Check the unique values\n",
        "dete_resignations['cease_date'].value_counts()"
      ],
      "execution_count": 21,
      "outputs": [
        {
          "output_type": "execute_result",
          "data": {
            "text/plain": [
              "2012       126\n",
              "2013        74\n",
              "01/2014     22\n",
              "12/2013     17\n",
              "06/2013     14\n",
              "09/2013     11\n",
              "07/2013      9\n",
              "11/2013      9\n",
              "10/2013      6\n",
              "08/2013      4\n",
              "05/2013      2\n",
              "05/2012      2\n",
              "09/2010      1\n",
              "07/2006      1\n",
              "07/2012      1\n",
              "2010         1\n",
              "Name: cease_date, dtype: int64"
            ]
          },
          "metadata": {
            "tags": []
          },
          "execution_count": 21
        }
      ]
    },
    {
      "cell_type": "code",
      "metadata": {
        "id": "A5SzG6aPGOET",
        "colab_type": "code",
        "outputId": "c9def065-bc8c-4359-cb96-0eeddd340221",
        "colab": {
          "base_uri": "https://localhost:8080/",
          "height": 119
        }
      },
      "source": [
        "# Extract the years and convert them to a float type\n",
        "dete_resignations['cease_date'] = dete_resignations['cease_date'].str.split('/').str[-1]\n",
        "dete_resignations['cease_date'] = dete_resignations['cease_date'].astype(\"float\")\n",
        "\n",
        "# Check the values again and look for outliers\n",
        "dete_resignations['cease_date'].value_counts()"
      ],
      "execution_count": 22,
      "outputs": [
        {
          "output_type": "execute_result",
          "data": {
            "text/plain": [
              "2013.0    146\n",
              "2012.0    129\n",
              "2014.0     22\n",
              "2010.0      2\n",
              "2006.0      1\n",
              "Name: cease_date, dtype: int64"
            ]
          },
          "metadata": {
            "tags": []
          },
          "execution_count": 22
        }
      ]
    },
    {
      "cell_type": "code",
      "metadata": {
        "id": "Nk1fV1wBGjHc",
        "colab_type": "code",
        "outputId": "e6829f7e-3047-47ce-a77e-aa29e43b28dd",
        "colab": {
          "base_uri": "https://localhost:8080/",
          "height": 731
        }
      },
      "source": [
        "# Check the unique values and look for outliers\n",
        "dete_resignations['dete_start_date'].value_counts().sort_values()"
      ],
      "execution_count": 23,
      "outputs": [
        {
          "output_type": "execute_result",
          "data": {
            "text/plain": [
              "1963.0     1\n",
              "1971.0     1\n",
              "1972.0     1\n",
              "1984.0     1\n",
              "1977.0     1\n",
              "1987.0     1\n",
              "1975.0     1\n",
              "1973.0     1\n",
              "1982.0     1\n",
              "1974.0     2\n",
              "1983.0     2\n",
              "1976.0     2\n",
              "1986.0     3\n",
              "1985.0     3\n",
              "2001.0     3\n",
              "1995.0     4\n",
              "1988.0     4\n",
              "1989.0     4\n",
              "1991.0     4\n",
              "1997.0     5\n",
              "1980.0     5\n",
              "1993.0     5\n",
              "1990.0     5\n",
              "1994.0     6\n",
              "2003.0     6\n",
              "1998.0     6\n",
              "1992.0     6\n",
              "2002.0     6\n",
              "1996.0     6\n",
              "1999.0     8\n",
              "2000.0     9\n",
              "2013.0    10\n",
              "2009.0    13\n",
              "2006.0    13\n",
              "2004.0    14\n",
              "2005.0    15\n",
              "2010.0    17\n",
              "2012.0    21\n",
              "2007.0    21\n",
              "2008.0    22\n",
              "2011.0    24\n",
              "Name: dete_start_date, dtype: int64"
            ]
          },
          "metadata": {
            "tags": []
          },
          "execution_count": 23
        }
      ]
    },
    {
      "cell_type": "code",
      "metadata": {
        "id": "LRJYT_CXHG-R",
        "colab_type": "code",
        "outputId": "73eb027f-0d14-4ba7-9047-266d34e468b4",
        "colab": {
          "base_uri": "https://localhost:8080/",
          "height": 119
        }
      },
      "source": [
        "# Check the unique values\n",
        "tafe_resignations['cease_date'].value_counts().sort_values()"
      ],
      "execution_count": 24,
      "outputs": [
        {
          "output_type": "execute_result",
          "data": {
            "text/plain": [
              "2009.0      2\n",
              "2013.0     55\n",
              "2010.0     68\n",
              "2012.0     94\n",
              "2011.0    116\n",
              "Name: cease_date, dtype: int64"
            ]
          },
          "metadata": {
            "tags": []
          },
          "execution_count": 24
        }
      ]
    },
    {
      "cell_type": "code",
      "metadata": {
        "id": "CdWo8XtoSA0j",
        "colab_type": "code",
        "outputId": "f3fc1aa0-1350-4b7b-afa4-e25f91a2dc85",
        "colab": {
          "base_uri": "https://localhost:8080/",
          "height": 731
        }
      },
      "source": [
        "dete_resignations['dete_start_date'].value_counts().sort_index(ascending = True)"
      ],
      "execution_count": 25,
      "outputs": [
        {
          "output_type": "execute_result",
          "data": {
            "text/plain": [
              "1963.0     1\n",
              "1971.0     1\n",
              "1972.0     1\n",
              "1973.0     1\n",
              "1974.0     2\n",
              "1975.0     1\n",
              "1976.0     2\n",
              "1977.0     1\n",
              "1980.0     5\n",
              "1982.0     1\n",
              "1983.0     2\n",
              "1984.0     1\n",
              "1985.0     3\n",
              "1986.0     3\n",
              "1987.0     1\n",
              "1988.0     4\n",
              "1989.0     4\n",
              "1990.0     5\n",
              "1991.0     4\n",
              "1992.0     6\n",
              "1993.0     5\n",
              "1994.0     6\n",
              "1995.0     4\n",
              "1996.0     6\n",
              "1997.0     5\n",
              "1998.0     6\n",
              "1999.0     8\n",
              "2000.0     9\n",
              "2001.0     3\n",
              "2002.0     6\n",
              "2003.0     6\n",
              "2004.0    14\n",
              "2005.0    15\n",
              "2006.0    13\n",
              "2007.0    21\n",
              "2008.0    22\n",
              "2009.0    13\n",
              "2010.0    17\n",
              "2011.0    24\n",
              "2012.0    21\n",
              "2013.0    10\n",
              "Name: dete_start_date, dtype: int64"
            ]
          },
          "metadata": {
            "tags": []
          },
          "execution_count": 25
        }
      ]
    },
    {
      "cell_type": "code",
      "metadata": {
        "id": "WhURqsNXSPPu",
        "colab_type": "code",
        "outputId": "56b0969f-f10b-40a0-c1ea-2aec07b55cff",
        "colab": {
          "base_uri": "https://localhost:8080/",
          "height": 119
        }
      },
      "source": [
        "tafe_resignations['cease_date'].value_counts().sort_index()"
      ],
      "execution_count": 26,
      "outputs": [
        {
          "output_type": "execute_result",
          "data": {
            "text/plain": [
              "2009.0      2\n",
              "2010.0     68\n",
              "2011.0    116\n",
              "2012.0     94\n",
              "2013.0     55\n",
              "Name: cease_date, dtype: int64"
            ]
          },
          "metadata": {
            "tags": []
          },
          "execution_count": 26
        }
      ]
    },
    {
      "cell_type": "code",
      "metadata": {
        "id": "nnVK9VvGa6fx",
        "colab_type": "code",
        "outputId": "4d86eff7-3fb7-4668-832d-406e57e08c42",
        "colab": {
          "base_uri": "https://localhost:8080/",
          "height": 119
        }
      },
      "source": [
        "dete_resignations['cease_date'].value_counts().sort_index()"
      ],
      "execution_count": 27,
      "outputs": [
        {
          "output_type": "execute_result",
          "data": {
            "text/plain": [
              "2006.0      1\n",
              "2010.0      2\n",
              "2012.0    129\n",
              "2013.0    146\n",
              "2014.0     22\n",
              "Name: cease_date, dtype: int64"
            ]
          },
          "metadata": {
            "tags": []
          },
          "execution_count": 27
        }
      ]
    },
    {
      "cell_type": "code",
      "metadata": {
        "id": "6il8sJ1uY2lv",
        "colab_type": "code",
        "outputId": "56976c06-abaf-41a3-d54a-8558f1f10f13",
        "colab": {
          "base_uri": "https://localhost:8080/",
          "height": 266
        }
      },
      "source": [
        "dete_boxplot = dete_resignations.boxplot('dete_start_date')"
      ],
      "execution_count": 28,
      "outputs": [
        {
          "output_type": "display_data",
          "data": {
            "image/png": "[encoded data removed]",
            "text/plain": [
              "<Figure size 432x288 with 1 Axes>"
            ]
          },
          "metadata": {
            "tags": []
          }
        }
      ]
    },
    {
      "cell_type": "code",
      "metadata": {
        "id": "KWDakepFabiX",
        "colab_type": "code",
        "outputId": "2cae9cdd-7c3c-4f9d-cef0-cfe0fa944920",
        "colab": {
          "base_uri": "https://localhost:8080/",
          "height": 266
        }
      },
      "source": [
        "dete_cease_dates_boxplot = dete_resignations.boxplot('cease_date')"
      ],
      "execution_count": 29,
      "outputs": [
        {
          "output_type": "display_data",
          "data": {
            "image/png": "[encoded data removed]",
            "text/plain": [
              "<Figure size 432x288 with 1 Axes>"
            ]
          },
          "metadata": {
            "tags": []
          }
        }
      ]
    },
    {
      "cell_type": "code",
      "metadata": {
        "id": "j2w819DhZFkm",
        "colab_type": "code",
        "outputId": "84e42330-e645-48c3-983d-2d6f9404bb11",
        "colab": {
          "base_uri": "https://localhost:8080/",
          "height": 266
        }
      },
      "source": [
        "tafe_cease_dates_boxplot = tafe_resignations.boxplot('cease_date')"
      ],
      "execution_count": 30,
      "outputs": [
        {
          "output_type": "display_data",
          "data": {
            "image/png": "[encoded data removed]",
            "text/plain": [
              "<Figure size 432x288 with 1 Axes>"
            ]
          },
          "metadata": {
            "tags": []
          }
        }
      ]
    },
    {
      "cell_type": "markdown",
      "metadata": {
        "id": "tB1BD-UrZRUk",
        "colab_type": "text"
      },
      "source": [
        "### Findings\n",
        "\n",
        "1. DETE start dates do not align with TAFE cease dates completely.\n",
        "2. TAFE has some cease dates in 2009 but DETE does not\n",
        "3. TAFE has more cease dates in 2010 than DETE"
      ]
    },
    {
      "cell_type": "markdown",
      "metadata": {
        "id": "uHIFFL_mcfl-",
        "colab_type": "text"
      },
      "source": [
        "## Create New Column for years of service for DETE\n",
        "TAFE has a column institute_service which represents the length of time an employee spent in a workplace. However, DETE does not have any such column. Therefore, we will create a new column which will show the duration of their employment."
      ]
    },
    {
      "cell_type": "code",
      "metadata": {
        "id": "_n_tc-hBc_Oq",
        "colab_type": "code",
        "outputId": "c01d547e-281f-4672-ba41-e9475f18845a",
        "colab": {
          "base_uri": "https://localhost:8080/",
          "height": 119
        }
      },
      "source": [
        "# calculate the length of time an employee spent in DETE and then add it to the new column\n",
        "dete_resignations['institute_service'] = dete_resignations['cease_date'] - dete_resignations['dete_start_date']\n",
        "\n",
        "# check the durations of employment\n",
        "dete_resignations['institute_service'].head()"
      ],
      "execution_count": 31,
      "outputs": [
        {
          "output_type": "execute_result",
          "data": {
            "text/plain": [
              "3      7.0\n",
              "5     18.0\n",
              "8      3.0\n",
              "9     15.0\n",
              "11     3.0\n",
              "Name: institute_service, dtype: float64"
            ]
          },
          "metadata": {
            "tags": []
          },
          "execution_count": 31
        }
      ]
    },
    {
      "cell_type": "markdown",
      "metadata": {
        "id": "tXZcaqect83X",
        "colab_type": "text"
      },
      "source": [
        "## Identify Dissatisfied employees\n",
        "\n",
        "Below are the columns we will use to categorize employees as \"dissatisfied\" from each dataframe. \n",
        "\n",
        "tafe_survey_updated:\n",
        "* Contributing Factors. Dissatisfaction\n",
        "* Contributing Factors. Job Dissatisfaction\n",
        "* dafe_survey_updated:\n",
        "* job_dissatisfaction\n",
        "* dissatisfaction_with_the_department\n",
        "* physical_work_environment\n",
        "* lack_of_recognition\n",
        "* lack_of_job_security\n",
        "* work_location\n",
        "* employment_conditions\n",
        "* work_life_balance\n",
        "* workload\n",
        "\n",
        "If the employee indicated any of the factors above caused them to resign, we will mark them as dissatisfied in a new column. New column, named \"dissatisfied will contain only the following values:\n",
        "1. True\n",
        "2. False\n",
        "3. NaN"
      ]
    },
    {
      "cell_type": "code",
      "metadata": {
        "id": "c577CxeQuppI",
        "colab_type": "code",
        "outputId": "6f317413-73bf-442b-8a51-e73c7dec2567",
        "colab": {
          "base_uri": "https://localhost:8080/",
          "height": 68
        }
      },
      "source": [
        "#Check the unique values\n",
        "tafe_resignations['Contributing Factors. Dissatisfaction'].value_counts()"
      ],
      "execution_count": 32,
      "outputs": [
        {
          "output_type": "execute_result",
          "data": {
            "text/plain": [
              "-                                         277\n",
              "Contributing Factors. Dissatisfaction      55\n",
              "Name: Contributing Factors. Dissatisfaction, dtype: int64"
            ]
          },
          "metadata": {
            "tags": []
          },
          "execution_count": 32
        }
      ]
    },
    {
      "cell_type": "code",
      "metadata": {
        "id": "BAiXQ0Z7x5zc",
        "colab_type": "code",
        "outputId": "0ffb8c37-ae57-4630-9b55-5cd154856848",
        "colab": {
          "base_uri": "https://localhost:8080/",
          "height": 68
        }
      },
      "source": [
        "# Check the unique values\n",
        "tafe_resignations['Contributing Factors. Job Dissatisfaction'].value_counts()"
      ],
      "execution_count": 33,
      "outputs": [
        {
          "output_type": "execute_result",
          "data": {
            "text/plain": [
              "-                      270\n",
              "Job Dissatisfaction     62\n",
              "Name: Contributing Factors. Job Dissatisfaction, dtype: int64"
            ]
          },
          "metadata": {
            "tags": []
          },
          "execution_count": 33
        }
      ]
    },
    {
      "cell_type": "code",
      "metadata": {
        "id": "FxmDK7Mi0Vrf",
        "colab_type": "code",
        "outputId": "de7939a8-55e9-4eec-9174-57adf0846e7e",
        "colab": {
          "base_uri": "https://localhost:8080/",
          "height": 85
        }
      },
      "source": [
        "# Update the values in the contributing factors columns to be either True, False, or NaN\n",
        "def update_vals(x):\n",
        "    if x == '-':\n",
        "        return False\n",
        "    elif pd.isnull(x):\n",
        "        return np.nan\n",
        "    else:\n",
        "        return True\n",
        "tafe_resignations['dissatisfied'] = tafe_resignations[['Contributing Factors. Dissatisfaction', 'Contributing Factors. Job Dissatisfaction']].applymap(update_vals).any(1, skipna=False)\n",
        "tafe_resignations_up = tafe_resignations.copy()\n",
        "\n",
        "# Check the unique values after the updates\n",
        "tafe_resignations_up['dissatisfied'].value_counts(dropna=False)"
      ],
      "execution_count": 34,
      "outputs": [
        {
          "output_type": "execute_result",
          "data": {
            "text/plain": [
              "False    241\n",
              "True      91\n",
              "NaN        8\n",
              "Name: dissatisfied, dtype: int64"
            ]
          },
          "metadata": {
            "tags": []
          },
          "execution_count": 34
        }
      ]
    },
    {
      "cell_type": "markdown",
      "metadata": {
        "id": "zo6uMyMZTNjM",
        "colab_type": "text"
      },
      "source": [
        "### Identify dissatisfied employees in DETE\n",
        "\n"
      ]
    },
    {
      "cell_type": "code",
      "metadata": {
        "id": "yLpgM-Q0VLp9",
        "colab_type": "code",
        "outputId": "2b837614-0518-4faa-bccc-392c853e4699",
        "colab": {
          "base_uri": "https://localhost:8080/",
          "height": 68
        }
      },
      "source": [
        "dete_resignations['job_dissatisfaction'].value_counts()"
      ],
      "execution_count": 35,
      "outputs": [
        {
          "output_type": "execute_result",
          "data": {
            "text/plain": [
              "False    270\n",
              "True      41\n",
              "Name: job_dissatisfaction, dtype: int64"
            ]
          },
          "metadata": {
            "tags": []
          },
          "execution_count": 35
        }
      ]
    },
    {
      "cell_type": "code",
      "metadata": {
        "id": "o8rJFxK3Vfk5",
        "colab_type": "code",
        "outputId": "f5cc1443-26d3-4b9c-dad7-7b9ff5e9bd4d",
        "colab": {
          "base_uri": "https://localhost:8080/",
          "height": 68
        }
      },
      "source": [
        "dete_resignations['dissatisfaction_with_the_department'].value_counts()"
      ],
      "execution_count": 36,
      "outputs": [
        {
          "output_type": "execute_result",
          "data": {
            "text/plain": [
              "False    282\n",
              "True      29\n",
              "Name: dissatisfaction_with_the_department, dtype: int64"
            ]
          },
          "metadata": {
            "tags": []
          },
          "execution_count": 36
        }
      ]
    },
    {
      "cell_type": "code",
      "metadata": {
        "id": "zz3vWa1LVp51",
        "colab_type": "code",
        "outputId": "451bc754-5810-4a2d-e59d-551d876eb718",
        "colab": {
          "base_uri": "https://localhost:8080/",
          "height": 68
        }
      },
      "source": [
        "dete_resignations['physical_work_environment'].value_counts()"
      ],
      "execution_count": 37,
      "outputs": [
        {
          "output_type": "execute_result",
          "data": {
            "text/plain": [
              "False    305\n",
              "True       6\n",
              "Name: physical_work_environment, dtype: int64"
            ]
          },
          "metadata": {
            "tags": []
          },
          "execution_count": 37
        }
      ]
    },
    {
      "cell_type": "code",
      "metadata": {
        "id": "xa361Q_dVykT",
        "colab_type": "code",
        "outputId": "88569ed0-c2c4-4c83-c846-e7d6934b2dc0",
        "colab": {
          "base_uri": "https://localhost:8080/",
          "height": 68
        }
      },
      "source": [
        "dete_resignations['lack_of_recognition'].value_counts()"
      ],
      "execution_count": 38,
      "outputs": [
        {
          "output_type": "execute_result",
          "data": {
            "text/plain": [
              "False    278\n",
              "True      33\n",
              "Name: lack_of_recognition, dtype: int64"
            ]
          },
          "metadata": {
            "tags": []
          },
          "execution_count": 38
        }
      ]
    },
    {
      "cell_type": "code",
      "metadata": {
        "id": "3uX-By-5WCwV",
        "colab_type": "code",
        "outputId": "7d7248b3-40d1-4331-f2cf-110490043f63",
        "colab": {
          "base_uri": "https://localhost:8080/",
          "height": 68
        }
      },
      "source": [
        "dete_resignations['lack_of_job_security'].value_counts()"
      ],
      "execution_count": 39,
      "outputs": [
        {
          "output_type": "execute_result",
          "data": {
            "text/plain": [
              "False    297\n",
              "True      14\n",
              "Name: lack_of_job_security, dtype: int64"
            ]
          },
          "metadata": {
            "tags": []
          },
          "execution_count": 39
        }
      ]
    },
    {
      "cell_type": "code",
      "metadata": {
        "id": "Z6HBOXaWWWU3",
        "colab_type": "code",
        "outputId": "2e1fa8b7-9fcb-4508-d8ef-bc5d27e15ea6",
        "colab": {
          "base_uri": "https://localhost:8080/",
          "height": 68
        }
      },
      "source": [
        "dete_resignations['work_location'].value_counts()"
      ],
      "execution_count": 40,
      "outputs": [
        {
          "output_type": "execute_result",
          "data": {
            "text/plain": [
              "False    293\n",
              "True      18\n",
              "Name: work_location, dtype: int64"
            ]
          },
          "metadata": {
            "tags": []
          },
          "execution_count": 40
        }
      ]
    },
    {
      "cell_type": "code",
      "metadata": {
        "id": "gtNINSa4WfqP",
        "colab_type": "code",
        "outputId": "128e1698-870b-4765-9a98-1e4845810e04",
        "colab": {
          "base_uri": "https://localhost:8080/",
          "height": 68
        }
      },
      "source": [
        "dete_resignations['employment_conditions'].value_counts()"
      ],
      "execution_count": 41,
      "outputs": [
        {
          "output_type": "execute_result",
          "data": {
            "text/plain": [
              "False    288\n",
              "True      23\n",
              "Name: employment_conditions, dtype: int64"
            ]
          },
          "metadata": {
            "tags": []
          },
          "execution_count": 41
        }
      ]
    },
    {
      "cell_type": "code",
      "metadata": {
        "id": "QfkEt9cLWl5G",
        "colab_type": "code",
        "outputId": "e240bc8a-3cf4-4f97-b525-cb17141604dd",
        "colab": {
          "base_uri": "https://localhost:8080/",
          "height": 68
        }
      },
      "source": [
        "dete_resignations['work_life_balance'].value_counts()"
      ],
      "execution_count": 42,
      "outputs": [
        {
          "output_type": "execute_result",
          "data": {
            "text/plain": [
              "False    243\n",
              "True      68\n",
              "Name: work_life_balance, dtype: int64"
            ]
          },
          "metadata": {
            "tags": []
          },
          "execution_count": 42
        }
      ]
    },
    {
      "cell_type": "code",
      "metadata": {
        "id": "07tPr4nEWsjQ",
        "colab_type": "code",
        "outputId": "6a711e6d-fa74-4488-94b4-4340994e5b17",
        "colab": {
          "base_uri": "https://localhost:8080/",
          "height": 68
        }
      },
      "source": [
        "dete_resignations['workload'].value_counts()"
      ],
      "execution_count": 43,
      "outputs": [
        {
          "output_type": "execute_result",
          "data": {
            "text/plain": [
              "False    284\n",
              "True      27\n",
              "Name: workload, dtype: int64"
            ]
          },
          "metadata": {
            "tags": []
          },
          "execution_count": 43
        }
      ]
    },
    {
      "cell_type": "code",
      "metadata": {
        "id": "cY6iXH2eZ4P7",
        "colab_type": "code",
        "outputId": "40e5a869-c7f5-4b46-bde7-ecde8e120826",
        "colab": {
          "base_uri": "https://localhost:8080/",
          "height": 68
        }
      },
      "source": [
        "# Update the values in columns related to dissatisfaction to be either True, False, or NaN\n",
        "dete_resignations['dissatisfied'] = dete_resignations[['job_dissatisfaction',\n",
        "       'dissatisfaction_with_the_department', 'physical_work_environment',\n",
        "       'lack_of_recognition', 'lack_of_job_security', 'work_location',\n",
        "       'employment_conditions', 'work_life_balance',\n",
        "       'workload']].any(1, skipna=False)\n",
        "dete_resignations_up = dete_resignations.copy()\n",
        "dete_resignations_up['dissatisfied'].value_counts(dropna=False)"
      ],
      "execution_count": 44,
      "outputs": [
        {
          "output_type": "execute_result",
          "data": {
            "text/plain": [
              "False    162\n",
              "True     149\n",
              "Name: dissatisfied, dtype: int64"
            ]
          },
          "metadata": {
            "tags": []
          },
          "execution_count": 44
        }
      ]
    },
    {
      "cell_type": "markdown",
      "metadata": {
        "id": "GiqmsNWNaW44",
        "colab_type": "text"
      },
      "source": [
        "## Combine DETE and TAFE dataframes\n",
        "\n",
        "Before combining DETE and TAFE dataframes, a new column called 'institution' will be added to both dataframes to distinguish DETE from TAFE data after they are combined. "
      ]
    },
    {
      "cell_type": "code",
      "metadata": {
        "id": "MJBSV3ynbLxW",
        "colab_type": "code",
        "colab": {}
      },
      "source": [
        "# Add an institute column\n",
        "dete_resignations_up['institute'] = 'DETE'\n",
        "tafe_resignations_up['institute'] = 'TAFE'"
      ],
      "execution_count": 0,
      "outputs": []
    },
    {
      "cell_type": "code",
      "metadata": {
        "id": "0e6TDbn-bffH",
        "colab_type": "code",
        "outputId": "d38c648a-0723-4e16-9497-91c3bbbbb4fd",
        "colab": {
          "base_uri": "https://localhost:8080/",
          "height": 153
        }
      },
      "source": [
        "# Combine the dataframes\n",
        "combined = pd.concat([dete_resignations_up, tafe_resignations_up], ignore_index=True)"
      ],
      "execution_count": 46,
      "outputs": [
        {
          "output_type": "stream",
          "text": [
            "/usr/local/lib/python3.6/dist-packages/ipykernel_launcher.py:1: FutureWarning: Sorting because non-concatenation axis is not aligned. A future version\n",
            "of pandas will change to not sort by default.\n",
            "\n",
            "To accept the future behavior, pass 'sort=False'.\n",
            "\n",
            "To retain the current behavior and silence the warning, pass 'sort=True'.\n",
            "\n",
            "  \"\"\"Entry point for launching an IPython kernel.\n"
          ],
          "name": "stderr"
        }
      ]
    },
    {
      "cell_type": "code",
      "metadata": {
        "id": "0cIBh45QnQca",
        "colab_type": "code",
        "outputId": "136dc096-5537-4645-a760-c668a9d6b800",
        "colab": {
          "base_uri": "https://localhost:8080/",
          "height": 935
        }
      },
      "source": [
        "# Verify the number of non null values in each column\n",
        "combined.notnull().sum().sort_values()"
      ],
      "execution_count": 47,
      "outputs": [
        {
          "output_type": "execute_result",
          "data": {
            "text/plain": [
              "torres_strait                                            0\n",
              "south_sea                                                3\n",
              "aboriginal                                               7\n",
              "disability                                               8\n",
              "nesb                                                     9\n",
              "business_unit                                           32\n",
              "classification                                         161\n",
              "region                                                 265\n",
              "role_start_date                                        271\n",
              "dete_start_date                                        283\n",
              "role_service                                           290\n",
              "career_move_to_public_sector                           311\n",
              "employment_conditions                                  311\n",
              "work_location                                          311\n",
              "lack_of_job_security                                   311\n",
              "job_dissatisfaction                                    311\n",
              "dissatisfaction_with_the_department                    311\n",
              "workload                                               311\n",
              "lack_of_recognition                                    311\n",
              "interpersonal_conflicts                                311\n",
              "maternity/family                                       311\n",
              "none_of_the_above                                      311\n",
              "physical_work_environment                              311\n",
              "relocation                                             311\n",
              "study/travel                                           311\n",
              "traumatic_incident                                     311\n",
              "work_life_balance                                      311\n",
              "career_move_to_private_sector                          311\n",
              "ill_health                                             311\n",
              "Contributing Factors. Career Move - Private Sector     332\n",
              "Contributing Factors. Other                            332\n",
              "Contributing Factors. Career Move - Public Sector      332\n",
              "Contributing Factors. Career Move - Self-employment    332\n",
              "Contributing Factors. Travel                           332\n",
              "Contributing Factors. Study                            332\n",
              "Contributing Factors. Dissatisfaction                  332\n",
              "Contributing Factors. Ill Health                       332\n",
              "Contributing Factors. NONE                             332\n",
              "Contributing Factors. Maternity/Family                 332\n",
              "Contributing Factors. Job Dissatisfaction              332\n",
              "Contributing Factors. Interpersonal Conflict           332\n",
              "WorkArea                                               340\n",
              "Institute                                              340\n",
              "institute_service                                      563\n",
              "gender                                                 592\n",
              "age                                                    596\n",
              "employment_status                                      597\n",
              "position                                               598\n",
              "cease_date                                             635\n",
              "dissatisfied                                           643\n",
              "id                                                     651\n",
              "separationtype                                         651\n",
              "institute                                              651\n",
              "dtype: int64"
            ]
          },
          "metadata": {
            "tags": []
          },
          "execution_count": 47
        }
      ]
    },
    {
      "cell_type": "code",
      "metadata": {
        "id": "IIPTMjuusMNo",
        "colab_type": "code",
        "colab": {}
      },
      "source": [
        "# Drop columns with less than 500 non null values\n",
        "combined_updated = combined.dropna(thresh = 500, axis =1).copy()"
      ],
      "execution_count": 0,
      "outputs": []
    },
    {
      "cell_type": "markdown",
      "metadata": {
        "id": "2ZbGMxOhsxBW",
        "colab_type": "text"
      },
      "source": [
        "\n",
        "## Clean the Service Column\n",
        "The institute_service column will be cleaned and employees will be categorized according to the following definitions:\n",
        "\n",
        "* New: Less than 3 years in the workplace\n",
        "* Experienced: 3-6 years in the workplace\n",
        "* Established: 7-10 years in the workplace\n",
        "* Veteran: 11 or more years in the workplace"
      ]
    },
    {
      "cell_type": "code",
      "metadata": {
        "id": "3B7On_9ys_h3",
        "colab_type": "code",
        "outputId": "5c70bf9c-687f-42bc-a100-5fc851c78163",
        "colab": {
          "base_uri": "https://localhost:8080/",
          "height": 884
        }
      },
      "source": [
        "# Check the unique values\n",
        "combined_updated['institute_service'].value_counts(dropna=False)"
      ],
      "execution_count": 49,
      "outputs": [
        {
          "output_type": "execute_result",
          "data": {
            "text/plain": [
              "NaN                   88\n",
              "Less than 1 year      73\n",
              "1-2                   64\n",
              "3-4                   63\n",
              "5-6                   33\n",
              "11-20                 26\n",
              "5.0                   23\n",
              "1.0                   22\n",
              "7-10                  21\n",
              "0.0                   20\n",
              "3.0                   20\n",
              "6.0                   17\n",
              "4.0                   16\n",
              "9.0                   14\n",
              "2.0                   14\n",
              "7.0                   13\n",
              "More than 20 years    10\n",
              "8.0                    8\n",
              "13.0                   8\n",
              "15.0                   7\n",
              "20.0                   7\n",
              "10.0                   6\n",
              "12.0                   6\n",
              "14.0                   6\n",
              "17.0                   6\n",
              "22.0                   6\n",
              "18.0                   5\n",
              "16.0                   5\n",
              "24.0                   4\n",
              "11.0                   4\n",
              "23.0                   4\n",
              "21.0                   3\n",
              "32.0                   3\n",
              "19.0                   3\n",
              "39.0                   3\n",
              "26.0                   2\n",
              "28.0                   2\n",
              "30.0                   2\n",
              "25.0                   2\n",
              "36.0                   2\n",
              "38.0                   1\n",
              "49.0                   1\n",
              "42.0                   1\n",
              "41.0                   1\n",
              "33.0                   1\n",
              "35.0                   1\n",
              "34.0                   1\n",
              "29.0                   1\n",
              "27.0                   1\n",
              "31.0                   1\n",
              "Name: institute_service, dtype: int64"
            ]
          },
          "metadata": {
            "tags": []
          },
          "execution_count": 49
        }
      ]
    },
    {
      "cell_type": "code",
      "metadata": {
        "id": "iRKgU2fIvVca",
        "colab_type": "code",
        "outputId": "e8fa7827-635b-445b-f0a1-dd29be154bcd",
        "colab": {
          "base_uri": "https://localhost:8080/",
          "height": 748
        }
      },
      "source": [
        "# Extract the years of service and convert the type to float\n",
        "combined_updated['institute_service_up'] = combined_updated['institute_service'].astype('str').str.extract(r'(\\d+)')\n",
        "combined_updated['institute_service_up'] = combined_updated['institute_service_up'].astype('float')\n",
        "\n",
        "# Check the years extracted are correct\n",
        "combined_updated['institute_service_up'].value_counts()"
      ],
      "execution_count": 50,
      "outputs": [
        {
          "output_type": "execute_result",
          "data": {
            "text/plain": [
              "1.0     159\n",
              "3.0      83\n",
              "5.0      56\n",
              "7.0      34\n",
              "11.0     30\n",
              "0.0      20\n",
              "20.0     17\n",
              "6.0      17\n",
              "4.0      16\n",
              "9.0      14\n",
              "2.0      14\n",
              "13.0      8\n",
              "8.0       8\n",
              "15.0      7\n",
              "17.0      6\n",
              "10.0      6\n",
              "12.0      6\n",
              "14.0      6\n",
              "22.0      6\n",
              "16.0      5\n",
              "18.0      5\n",
              "24.0      4\n",
              "23.0      4\n",
              "39.0      3\n",
              "19.0      3\n",
              "21.0      3\n",
              "32.0      3\n",
              "28.0      2\n",
              "36.0      2\n",
              "25.0      2\n",
              "30.0      2\n",
              "26.0      2\n",
              "29.0      1\n",
              "38.0      1\n",
              "42.0      1\n",
              "27.0      1\n",
              "41.0      1\n",
              "35.0      1\n",
              "49.0      1\n",
              "34.0      1\n",
              "33.0      1\n",
              "31.0      1\n",
              "Name: institute_service_up, dtype: int64"
            ]
          },
          "metadata": {
            "tags": []
          },
          "execution_count": 50
        }
      ]
    },
    {
      "cell_type": "code",
      "metadata": {
        "id": "KzLifnujwLMF",
        "colab_type": "code",
        "outputId": "08f2eae3-c211-4f8e-f7a5-369836a11f29",
        "colab": {
          "base_uri": "https://localhost:8080/",
          "height": 102
        }
      },
      "source": [
        "def transform_service(val):\n",
        "    if val >= 11:\n",
        "        return \"Veteran\"\n",
        "    elif 7 <= val < 11:\n",
        "        return \"Established\"\n",
        "    elif 3 <= val < 7:\n",
        "        return \"Experienced\"\n",
        "    elif pd.isnull(val):\n",
        "        return np.nan\n",
        "    else:\n",
        "        return \"New\"\n",
        "combined_updated['service_cat'] = combined_updated['institute_service_up'].apply(transform_service)\n",
        "\n",
        "# Quick check of the update\n",
        "combined_updated['service_cat'].value_counts()"
      ],
      "execution_count": 51,
      "outputs": [
        {
          "output_type": "execute_result",
          "data": {
            "text/plain": [
              "New            193\n",
              "Experienced    172\n",
              "Veteran        136\n",
              "Established     62\n",
              "Name: service_cat, dtype: int64"
            ]
          },
          "metadata": {
            "tags": []
          },
          "execution_count": 51
        }
      ]
    },
    {
      "cell_type": "markdown",
      "metadata": {
        "id": "keBpLEs-aIti",
        "colab_type": "text"
      },
      "source": [
        "## Analysis of dissatisfied employees.\n",
        "\n",
        "First, we will find what proportion of employees resigned due to dissatisfaction."
      ]
    },
    {
      "cell_type": "code",
      "metadata": {
        "id": "576kepaEaYE8",
        "colab_type": "code",
        "colab": {
          "base_uri": "https://localhost:8080/",
          "height": 85
        },
        "outputId": "facf1603-8ba6-4daf-b7d9-228285a7d379"
      },
      "source": [
        "combined_updated['dissatisfied'].value_counts(dropna = False)"
      ],
      "execution_count": 53,
      "outputs": [
        {
          "output_type": "execute_result",
          "data": {
            "text/plain": [
              "False    403\n",
              "True     240\n",
              "NaN        8\n",
              "Name: dissatisfied, dtype: int64"
            ]
          },
          "metadata": {
            "tags": []
          },
          "execution_count": 53
        }
      ]
    },
    {
      "cell_type": "markdown",
      "metadata": {
        "id": "teVMfUrzag8V",
        "colab_type": "text"
      },
      "source": [
        "The majority of employees did not resign due to dissatisfaction. We will replace the missing values in the dissatisfied column with the most frequent value, False"
      ]
    },
    {
      "cell_type": "code",
      "metadata": {
        "id": "fNTaE9Nha3G1",
        "colab_type": "code",
        "colab": {}
      },
      "source": [
        "# Fill missing values with most frequent values\n",
        "combined_updated['dissatisfied'] = combined_updated['dissatisfied'].fillna(False)"
      ],
      "execution_count": 0,
      "outputs": []
    },
    {
      "cell_type": "code",
      "metadata": {
        "id": "yFA4G8KKcN6l",
        "colab_type": "code",
        "colab": {
          "base_uri": "https://localhost:8080/",
          "height": 327
        },
        "outputId": "6c979a54-3fb5-4c47-9074-e6cd8e413cbe"
      },
      "source": [
        "\n",
        "# Calculate the percentage of employees who resigned due to dissatisfaction in each category\n",
        "dissatisfied_pvt = combined_updated.pivot_table(index='service_cat', values='dissatisfied')\n",
        "\n",
        "# Plot the results\n",
        "%matplotlib inline\n",
        "dissatisfied_pvt.plot(kind='bar', rot=30)"
      ],
      "execution_count": 56,
      "outputs": [
        {
          "output_type": "execute_result",
          "data": {
            "text/plain": [
              "<matplotlib.axes._subplots.AxesSubplot at 0x7f1983655358>"
            ]
          },
          "metadata": {
            "tags": []
          },
          "execution_count": 56
        },
        {
          "output_type": "display_data",
          "data": {
            "image/png": "[encoded data removed]",
            "text/plain": [
              "<Figure size 432x288 with 1 Axes>"
            ]
          },
          "metadata": {
            "tags": []
          }
        }
      ]
    },
    {
      "cell_type": "markdown",
      "metadata": {
        "id": "KcwWFUVOd2N2",
        "colab_type": "text"
      },
      "source": [
        "From this analysis above we can conclude that employees with an experience of 7 years and above are more likely to resign due to some form of dissatisfaction than employees with lesser experience."
      ]
    }
  ]
}