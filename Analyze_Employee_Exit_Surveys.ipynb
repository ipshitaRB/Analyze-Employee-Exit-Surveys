{
  "nbformat": 4,
  "nbformat_minor": 0,
  "metadata": {
    "colab": {
      "name": "Analyze Employee Exit Surveys.ipynb",
      "provenance": [],
      "include_colab_link": true
    },
    "kernelspec": {
      "name": "python3",
      "display_name": "Python 3"
    }
  },
  "cells": [
    {
      "cell_type": "markdown",
      "metadata": {
        "id": "view-in-github",
        "colab_type": "text"
      },
      "source": [
        "<a href=\"https://colab.research.google.com/github/ipshitaRB/Analyze-Employee-Exit-Surveys/blob/master/Analyze_Employee_Exit_Surveys.ipynb\" target=\"_parent\"><img src=\"https://colab.research.google.com/assets/colab-badge.svg\" alt=\"Open In Colab\"/></a>"
      ]
    },
    {
      "cell_type": "markdown",
      "metadata": {
        "id": "pqZyvHe0GUzf",
        "colab_type": "text"
      },
      "source": [
        "# Clean and Analyze Employee Exit Surveys \n",
        "\n",
        "In this project, we will work with exit surveys from employees of the  [Department of Education, Training and Employment (DETE)](https://en.wikipedia.org/wiki/Department_of_Education_and_Training_(Queensland)) and the Technical and Further Education (TAFE) institute in Queensland, Australia. You can find the TAFE exit survey [here](https://data.gov.au/dataset/ds-qld-89970a3b-182b-41ea-aea2-6f9f17https://data.gov.au/dataset/ds-qld-fe96ff30-d157-4a81-851d-215f2a0fe26d/details?q=exit%20survey).\n",
        "\n",
        "Below is a preview of a couple columns we'll work with from the dete_survey.csv:\n",
        "\n",
        "* ID: An id used to identify the participant of the survey\n",
        "* SeparationType: The reason why the person's employment ended\n",
        "* Cease Date: The year or month the person's employment ended\n",
        "* DETE Start Date: The year the person began employment with the DETE\n",
        "\n",
        "Below is a preview of a couple columns we'll work with from the tafe_survey.csv:\n",
        "\n",
        "* Record ID: An id used to identify the participant of the survey\n",
        "* Reason for ceasing employment: The reason why the person's employment ended\n",
        "* LengthofServiceOverall. Overall Length of Service at Institute (in years): The length of the person's employment (in years)"
      ]
    },
    {
      "cell_type": "code",
      "metadata": {
        "id": "ergETaN_GHDZ",
        "colab_type": "code",
        "colab": {}
      },
      "source": [
        ""
      ],
      "execution_count": 0,
      "outputs": []
    }
  ]
}